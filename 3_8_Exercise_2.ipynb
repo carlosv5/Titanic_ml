{
 "cells": [
  {
   "cell_type": "markdown",
   "metadata": {},
   "source": [
    "![](images/EscUpmPolit_p.gif \"UPM\")"
   ]
  },
  {
   "cell_type": "markdown",
   "metadata": {},
   "source": [
    "# Course Notes for Learning Intelligent Systems"
   ]
  },
  {
   "cell_type": "markdown",
   "metadata": {},
   "source": [
    "Department of Telematic Engineering Systems, Universidad Politécnica de Madrid, © 2016 Carlos A. Iglesias"
   ]
  },
  {
   "cell_type": "markdown",
   "metadata": {},
   "source": [
    "## [Introduction to Machine Learning II](3_0_0_Intro_ML_2.ipynb)"
   ]
  },
  {
   "cell_type": "markdown",
   "metadata": {},
   "source": [
    "# Exercise 2 - The Titanic Dataset"
   ]
  },
  {
   "cell_type": "markdown",
   "metadata": {},
   "source": [
    "In this exercise we are going to put in practice what we have learnt in the notebooks of the session. \n",
    "\n",
    "In the previous notebook we have been applying the SVM machine learning algorithm.\n",
    "\n",
    "Your task is to apply other machine learning algorithms (at least 2) that you have seen in theory or others you are interested in.\n",
    "\n",
    "You should compare the algorithms and describe your experiments."
   ]
  },
  {
   "cell_type": "markdown",
   "metadata": {},
   "source": [
    "### Cargar y limpiar datos"
   ]
  },
  {
   "cell_type": "markdown",
   "metadata": {},
   "source": [
    "Se cargan los datos del titanic y se limpian para quitar las variables vacías y los tipos que son objetos."
   ]
  },
  {
   "cell_type": "code",
   "execution_count": 4,
   "metadata": {
    "collapsed": false
   },
   "outputs": [],
   "source": [
    "# General import and load data\n",
    "import pandas as pd\n",
    "import numpy as np\n",
    "\n",
    "from pandas import Series, DataFrame\n",
    "\n",
    "# Training and test spliting\n",
    "from sklearn.cross_validation import train_test_split\n",
    "from sklearn import preprocessing\n",
    "\n",
    "# Estimators\n",
    "from sklearn.svm import SVC\n",
    "\n",
    "# Evaluation\n",
    "from sklearn import metrics\n",
    "from sklearn.cross_validation import cross_val_score, KFold, StratifiedKFold\n",
    "from sklearn.metrics import classification_report\n",
    "from sklearn.metrics import roc_curve\n",
    "from sklearn.metrics import roc_auc_score\n",
    "\n",
    "# Optimization\n",
    "from sklearn.grid_search import GridSearchCV\n",
    "\n",
    "# Visualisation\n",
    "import seaborn as sns\n",
    "import matplotlib.pyplot as plt\n",
    "sns.set(color_codes=True)\n",
    "\n",
    "\n",
    "# if matplotlib is not set inline, you will not see plots\n",
    "#alternatives auto gtk gtk2 inline osx qt qt5 wx tk\n",
    "#%matplotlib auto\n",
    "#%matplotlib qt\n",
    "%matplotlib inline\n",
    "%run plot_learning_curve"
   ]
  },
  {
   "cell_type": "code",
   "execution_count": 6,
   "metadata": {
    "collapsed": false
   },
   "outputs": [
    {
     "data": {
      "text/html": [
       "<div>\n",
       "<table border=\"1\" class=\"dataframe\">\n",
       "  <thead>\n",
       "    <tr style=\"text-align: right;\">\n",
       "      <th></th>\n",
       "      <th>PassengerId</th>\n",
       "      <th>Survived</th>\n",
       "      <th>Pclass</th>\n",
       "      <th>Sex</th>\n",
       "      <th>Age</th>\n",
       "      <th>SibSp</th>\n",
       "      <th>Parch</th>\n",
       "      <th>Fare</th>\n",
       "      <th>Embarked</th>\n",
       "    </tr>\n",
       "  </thead>\n",
       "  <tbody>\n",
       "    <tr>\n",
       "      <th>0</th>\n",
       "      <td>1</td>\n",
       "      <td>0</td>\n",
       "      <td>3</td>\n",
       "      <td>0</td>\n",
       "      <td>22.0</td>\n",
       "      <td>1</td>\n",
       "      <td>0</td>\n",
       "      <td>7.2500</td>\n",
       "      <td>0</td>\n",
       "    </tr>\n",
       "    <tr>\n",
       "      <th>1</th>\n",
       "      <td>2</td>\n",
       "      <td>1</td>\n",
       "      <td>1</td>\n",
       "      <td>1</td>\n",
       "      <td>38.0</td>\n",
       "      <td>1</td>\n",
       "      <td>0</td>\n",
       "      <td>71.2833</td>\n",
       "      <td>1</td>\n",
       "    </tr>\n",
       "    <tr>\n",
       "      <th>2</th>\n",
       "      <td>3</td>\n",
       "      <td>1</td>\n",
       "      <td>3</td>\n",
       "      <td>1</td>\n",
       "      <td>26.0</td>\n",
       "      <td>0</td>\n",
       "      <td>0</td>\n",
       "      <td>7.9250</td>\n",
       "      <td>0</td>\n",
       "    </tr>\n",
       "    <tr>\n",
       "      <th>3</th>\n",
       "      <td>4</td>\n",
       "      <td>1</td>\n",
       "      <td>1</td>\n",
       "      <td>1</td>\n",
       "      <td>35.0</td>\n",
       "      <td>1</td>\n",
       "      <td>0</td>\n",
       "      <td>53.1000</td>\n",
       "      <td>0</td>\n",
       "    </tr>\n",
       "    <tr>\n",
       "      <th>4</th>\n",
       "      <td>5</td>\n",
       "      <td>0</td>\n",
       "      <td>3</td>\n",
       "      <td>0</td>\n",
       "      <td>35.0</td>\n",
       "      <td>0</td>\n",
       "      <td>0</td>\n",
       "      <td>8.0500</td>\n",
       "      <td>0</td>\n",
       "    </tr>\n",
       "  </tbody>\n",
       "</table>\n",
       "</div>"
      ],
      "text/plain": [
       "   PassengerId  Survived  Pclass  Sex   Age  SibSp  Parch     Fare  Embarked\n",
       "0            1         0       3    0  22.0      1      0   7.2500         0\n",
       "1            2         1       1    1  38.0      1      0  71.2833         1\n",
       "2            3         1       3    1  26.0      0      0   7.9250         0\n",
       "3            4         1       1    1  35.0      1      0  53.1000         0\n",
       "4            5         0       3    0  35.0      0      0   8.0500         0"
      ]
     },
     "execution_count": 6,
     "metadata": {},
     "output_type": "execute_result"
    }
   ],
   "source": [
    "#We get a URL with raw content (not HTML one)\n",
    "url=\"https://raw.githubusercontent.com/gsi-upm/sitc/master/ml2/data-titanic/train.csv\"\n",
    "df = pd.read_csv(url)\n",
    "df.head()\n",
    "\n",
    "\n",
    "#Fill missing values\n",
    "df['Age'].fillna(df['Age'].mean(), inplace=True)\n",
    "df['Sex'].fillna('male', inplace=True)\n",
    "df['Embarked'].fillna('S', inplace=True)\n",
    "\n",
    "# Encode categorical variables\n",
    "df['Age'] = df['Age'].fillna(df['Age'].median())\n",
    "df.loc[df[\"Sex\"] == \"male\", \"Sex\"] = 0\n",
    "df.loc[df[\"Sex\"] == \"female\", \"Sex\"] = 1\n",
    "df.loc[df[\"Embarked\"] == \"S\", \"Embarked\"] = 0\n",
    "df.loc[df[\"Embarked\"] == \"C\", \"Embarked\"] = 1\n",
    "df.loc[df[\"Embarked\"] == \"Q\", \"Embarked\"] = 2\n",
    "\n",
    "# Drop colums\n",
    "df.drop(['Cabin', 'Ticket', 'Name'], axis=1, inplace=True)\n",
    "df['Sex'] = df['Sex'].astype(np.int64)\n",
    "df['Embarked'] = df['Embarked'].astype(np.int64)\n",
    "df.dtypes\n",
    "\n",
    "#Show proprocessed df\n",
    "df.head()"
   ]
  },
  {
   "cell_type": "markdown",
   "metadata": {},
   "source": [
    "### Preprocesado: Division en test y train"
   ]
  },
  {
   "cell_type": "markdown",
   "metadata": {},
   "source": [
    "Los valores de la x con todas las features salvo si ha sobrevivido. La y es si han sobrevivido. Para la división en datos de entrenamiento y test utilizo un random_state de 33."
   ]
  },
  {
   "cell_type": "code",
   "execution_count": 10,
   "metadata": {
    "collapsed": true
   },
   "outputs": [],
   "source": [
    "# Features of the model\n",
    "features = ['Pclass', 'Sex', 'Age', 'SibSp', 'Parch', 'Fare', 'Embarked']\n",
    "# Transform dataframe in numpy arrays\n",
    "X = df[features].values\n",
    "y = df['Survived'].values\n",
    "\n",
    "\n",
    "\n",
    "# Test set will be the 25% taken randomly\n",
    "x_train, x_test, y_train, y_test = train_test_split(X, y, test_size=0.25, random_state=33)\n",
    "\n",
    "# Preprocess: normalize\n",
    "#scaler = preprocessing.StandardScaler().fit(X_train)\n",
    "#X_train = scaler.transform(X_train)\n",
    "#X_test = scaler.transform(X_test)"
   ]
  },
  {
   "cell_type": "markdown",
   "metadata": {},
   "source": [
    "# KNeighborsClassifier"
   ]
  },
  {
   "cell_type": "markdown",
   "metadata": {},
   "source": [
    "### Definir el modelo"
   ]
  },
  {
   "cell_type": "markdown",
   "metadata": {},
   "source": [
    "Definición del modelo Knn con k=15"
   ]
  },
  {
   "cell_type": "code",
   "execution_count": 14,
   "metadata": {
    "collapsed": false
   },
   "outputs": [
    {
     "data": {
      "text/plain": [
       "KNeighborsClassifier(algorithm='auto', leaf_size=30, metric='minkowski',\n",
       "           metric_params=None, n_jobs=1, n_neighbors=15, p=2,\n",
       "           weights='uniform')"
      ]
     },
     "execution_count": 14,
     "metadata": {},
     "output_type": "execute_result"
    }
   ],
   "source": [
    "from sklearn.neighbors import KNeighborsClassifier\n",
    "import numpy as np\n",
    "\n",
    "# Create kNN model\n",
    "model = KNeighborsClassifier(n_neighbors=15)\n",
    "\n",
    "# Train the model using the training sets\n",
    "model.fit(x_train, y_train)\n",
    "#print(\"Prediction \", model.predict(x_train))\n",
    "#print(\"Expected \", y_train)"
   ]
  },
  {
   "cell_type": "markdown",
   "metadata": {},
   "source": [
    "Obtenemos las siguientes exactitudes en training y testing (accuracy) utilizandoo este modelo con k=15."
   ]
  },
  {
   "cell_type": "code",
   "execution_count": 15,
   "metadata": {
    "collapsed": false
   },
   "outputs": [
    {
     "name": "stdout",
     "output_type": "stream",
     "text": [
      "Accuracy in training 0.75\n"
     ]
    }
   ],
   "source": [
    "# Evaluate Accuracy in training\n",
    "\n",
    "from sklearn import metrics\n",
    "y_train_pred = model.predict(x_train)\n",
    "print(\"Accuracy in training\", metrics.accuracy_score(y_train, y_train_pred))"
   ]
  },
  {
   "cell_type": "code",
   "execution_count": 16,
   "metadata": {
    "collapsed": false
   },
   "outputs": [
    {
     "name": "stdout",
     "output_type": "stream",
     "text": [
      "Accuracy in testing  0.699551569507\n"
     ]
    }
   ],
   "source": [
    "# Now we evaluate error in testing\n",
    "y_test_pred = model.predict(x_test)\n",
    "print(\"Accuracy in testing \", metrics.accuracy_score(y_test, y_test_pred))"
   ]
  },
  {
   "cell_type": "markdown",
   "metadata": {},
   "source": [
    "Lógicamente la exactitud en entrenamiento es mayor que la de test porque el modelo se ha ajustado con esos datos."
   ]
  },
  {
   "cell_type": "markdown",
   "metadata": {},
   "source": [
    "Ahora calculamos las metricas del modelo basándonos en los datos de test."
   ]
  },
  {
   "cell_type": "code",
   "execution_count": 20,
   "metadata": {
    "collapsed": false
   },
   "outputs": [
    {
     "name": "stdout",
     "output_type": "stream",
     "text": [
      "             precision    recall  f1-score   support\n",
      "\n",
      "          0       0.72      0.82      0.77       134\n",
      "          1       0.66      0.52      0.58        89\n",
      "\n",
      "avg / total       0.69      0.70      0.69       223\n",
      "\n"
     ]
    }
   ],
   "source": [
    "print(metrics.classification_report(y_test, y_test_pred))\n"
   ]
  },
  {
   "cell_type": "markdown",
   "metadata": {},
   "source": [
    "Obtenemos la siguiente matriz de confusión:"
   ]
  },
  {
   "cell_type": "code",
   "execution_count": 22,
   "metadata": {
    "collapsed": false
   },
   "outputs": [
    {
     "name": "stdout",
     "output_type": "stream",
     "text": [
      "[[110  24]\n",
      " [ 43  46]]\n"
     ]
    }
   ],
   "source": [
    "print(metrics.confusion_matrix(y_test, y_test_pred))"
   ]
  },
  {
   "cell_type": "markdown",
   "metadata": {},
   "source": [
    "Tenemos 110 verdaderos positivos, es decir, 110 personas que no sobreviven y el modelo lo acierta. 46 verdaderos positivos, que acierta el modelo que sobreviven. Tenemos también 43 falsos negativos y 24 falsos positivos."
   ]
  },
  {
   "cell_type": "markdown",
   "metadata": {},
   "source": [
    "### ROC (Receiver Operating Characteristic ) and AUC (Area Under the Curve)"
   ]
  },
  {
   "cell_type": "code",
   "execution_count": 25,
   "metadata": {
    "collapsed": false
   },
   "outputs": [
    {
     "data": {
      "image/png": "[encoded data removed]",
      "text/plain": [
       "<matplotlib.figure.Figure at 0x7fba7fbb65c0>"
      ]
     },
     "metadata": {},
     "output_type": "display_data"
    }
   ],
   "source": [
    "y_pred_prob = model.predict_proba(X_test)[:,1]\n",
    "fpr, tpr, thresholds = roc_curve(y_test, y_pred_prob)\n",
    "plt.plot(fpr, tpr)\n",
    "plt.xlim([0.0, 1.0])\n",
    "plt.ylim([0.0, 1.0])\n",
    "plt.title('ROC curve for Titanic')\n",
    "plt.xlabel('False Positive Rate (1 - Recall)')\n",
    "plt.xlabel('True Positive Rate (Sensitivity)')\n",
    "plt.grid(True)\n"
   ]
  },
  {
   "cell_type": "code",
   "execution_count": 26,
   "metadata": {
    "collapsed": false
   },
   "outputs": [
    {
     "data": {
      "text/plain": [
       "array([ 2.        ,  1.        ,  0.93333333,  0.86666667,  0.8       ,\n",
       "        0.73333333,  0.66666667,  0.6       ,  0.53333333,  0.46666667,\n",
       "        0.4       ,  0.33333333,  0.26666667,  0.2       ,  0.13333333,\n",
       "        0.06666667,  0.        ])"
      ]
     },
     "execution_count": 26,
     "metadata": {},
     "output_type": "execute_result"
    }
   ],
   "source": [
    "#Threshold used by the decision function, thresholds[0] is the number of \n",
    "thresholds"
   ]
  },
  {
   "cell_type": "code",
   "execution_count": 28,
   "metadata": {
    "collapsed": false
   },
   "outputs": [
    {
     "data": {
      "text/plain": [
       "array([<matplotlib.axes._subplots.AxesSubplot object at 0x7fba7fb23710>,\n",
       "       <matplotlib.axes._subplots.AxesSubplot object at 0x7fba7fa31cf8>], dtype=object)"
      ]
     },
     "execution_count": 28,
     "metadata": {},
     "output_type": "execute_result"
    },
    {
     "data": {
      "image/png": "[encoded data removed]",
      "text/plain": [
       "<matplotlib.figure.Figure at 0x7fba7fce3358>"
      ]
     },
     "metadata": {},
     "output_type": "display_data"
    }
   ],
   "source": [
    "#Histogram of probability vs actual\n",
    "dprob = pd.DataFrame(data = {'probability':y_pred_prob, 'actual':y_test})\n",
    "dprob.probability.hist(by=dprob.actual, sharex=True, sharey=True)"
   ]
  },
  {
   "cell_type": "code",
   "execution_count": 29,
   "metadata": {
    "collapsed": true
   },
   "outputs": [],
   "source": [
    "#Function to evaluate thresholds of the ROC curve\n",
    "def evaluate_threshold(threshold):\n",
    "    print('Sensitivity:', tpr[thresholds > threshold][-1])\n",
    "    print('Recall:', 1 - fpr[thresholds > threshold][-1])"
   ]
  },
  {
   "cell_type": "code",
   "execution_count": 33,
   "metadata": {
    "collapsed": false
   },
   "outputs": [
    {
     "name": "stdout",
     "output_type": "stream",
     "text": [
      "Sensitivity: 0.179775280899\n",
      "Recall: 0.970149253731\n",
      "0.728156967969\n"
     ]
    }
   ],
   "source": [
    "evaluate_threshold(0.74)\n",
    "# AUX\n",
    "print(roc_auc_score(y_test, y_pred_prob))"
   ]
  },
  {
   "cell_type": "markdown",
   "metadata": {},
   "source": [
    "### K-fold"
   ]
  },
  {
   "cell_type": "markdown",
   "metadata": {},
   "source": [
    "Hacemos validación cruzada k-fold con k=10."
   ]
  },
  {
   "cell_type": "code",
   "execution_count": 36,
   "metadata": {
    "collapsed": false
   },
   "outputs": [
    {
     "name": "stdout",
     "output_type": "stream",
     "text": [
      "[ 0.81111111  0.85393258  0.83146067  0.80898876  0.7752809   0.76404494\n",
      "  0.84269663  0.7752809   0.75280899  0.85393258]\n"
     ]
    }
   ],
   "source": [
    "from sklearn.model_selection import cross_val_score, KFold\n",
    "from sklearn.pipeline import Pipeline\n",
    "from sklearn.preprocessing import StandardScaler\n",
    "\n",
    "# create a composite estimator made by a pipeline of preprocessing and the KNN model\n",
    "model = Pipeline([\n",
    "        ('scaler', StandardScaler()),\n",
    "        ('kNN', KNeighborsClassifier())\n",
    "])\n",
    "\n",
    "# create a k-fold cross validation iterator of k=10 folds\n",
    "cv = KFold(10, shuffle=True, random_state=33)\n",
    "\n",
    "# by default the score used is the one returned by score method of the estimator (accuracy)\n",
    "scores = cross_val_score(model, X, y, cv=cv)\n",
    "print(scores)"
   ]
  },
  {
   "cell_type": "markdown",
   "metadata": {},
   "source": [
    "La media de las exactitudes es:"
   ]
  },
  {
   "cell_type": "code",
   "execution_count": 37,
   "metadata": {
    "collapsed": false
   },
   "outputs": [
    {
     "name": "stdout",
     "output_type": "stream",
     "text": [
      "Mean score: 0.807 (+/- 0.012)\n"
     ]
    }
   ],
   "source": [
    "from scipy.stats import sem\n",
    "def mean_score(scores):\n",
    "    return (\"Mean score: {0:.3f} (+/- {1:.3f})\").format(np.mean(scores), sem(scores))\n",
    "print(mean_score(scores))"
   ]
  },
  {
   "cell_type": "markdown",
   "metadata": {},
   "source": [
    "### Mejora del modelo"
   ]
  },
  {
   "cell_type": "code",
   "execution_count": 38,
   "metadata": {
    "collapsed": false
   },
   "outputs": [
    {
     "data": {
      "text/plain": [
       "<matplotlib.text.Text at 0x7fba7f86e1d0>"
      ]
     },
     "execution_count": 38,
     "metadata": {},
     "output_type": "execute_result"
    },
    {
     "data": {
      "image/png": "[encoded data removed]",
      "text/plain": [
       "<matplotlib.figure.Figure at 0x7fba7f90c390>"
      ]
     },
     "metadata": {},
     "output_type": "display_data"
    }
   ],
   "source": [
    "k_range = range(1, 21)\n",
    "accuracy = []\n",
    "for k in k_range:\n",
    "    m = KNeighborsClassifier(k)\n",
    "    m.fit(x_train, y_train)\n",
    "    y_test_pred = m.predict(x_test)\n",
    "    accuracy.append(metrics.accuracy_score(y_test, y_test_pred))\n",
    "plt.plot(k_range, accuracy)\n",
    "plt.xlabel('k value')\n",
    "plt.ylabel('Accuracy')"
   ]
  },
  {
   "cell_type": "markdown",
   "metadata": {},
   "source": [
    "El mejor valor de K es 12, por tanto, hago la repetición para mejorar el modelo."
   ]
  },
  {
   "cell_type": "code",
   "execution_count": 40,
   "metadata": {
    "collapsed": false
   },
   "outputs": [
    {
     "name": "stdout",
     "output_type": "stream",
     "text": [
      "Accuracy in training 0.747005988024\n",
      "Accuracy in testing  0.717488789238\n",
      "             precision    recall  f1-score   support\n",
      "\n",
      "          0       0.72      0.87      0.79       134\n",
      "          1       0.71      0.49      0.58        89\n",
      "\n",
      "avg / total       0.72      0.72      0.71       223\n",
      "\n",
      "[[116  18]\n",
      " [ 45  44]]\n"
     ]
    }
   ],
   "source": [
    "from sklearn.neighbors import KNeighborsClassifier\n",
    "import numpy as np\n",
    "\n",
    "# Create kNN model\n",
    "model = KNeighborsClassifier(n_neighbors=12)\n",
    "\n",
    "# Train the model using the training sets\n",
    "model.fit(x_train, y_train)\n",
    "from sklearn import metrics\n",
    "y_train_pred = model.predict(x_train)\n",
    "print(\"Accuracy in training\", metrics.accuracy_score(y_train, y_train_pred))\n",
    "# Now we evaluate error in testing\n",
    "y_test_pred = model.predict(x_test)\n",
    "print(\"Accuracy in testing \", metrics.accuracy_score(y_test, y_test_pred))\n",
    "print(metrics.classification_report(y_test, y_test_pred))\n",
    "print(metrics.confusion_matrix(y_test, y_test_pred))"
   ]
  },
  {
   "cell_type": "markdown",
   "metadata": {},
   "source": [
    "# Aprendizaje basado en árbol de decisión"
   ]
  },
  {
   "cell_type": "code",
   "execution_count": 44,
   "metadata": {
    "collapsed": false
   },
   "outputs": [
    {
     "data": {
      "text/plain": [
       "DecisionTreeClassifier(class_weight=None, criterion='gini', max_depth=3,\n",
       "            max_features=None, max_leaf_nodes=None,\n",
       "            min_impurity_split=1e-07, min_samples_leaf=1,\n",
       "            min_samples_split=2, min_weight_fraction_leaf=0.0,\n",
       "            presort=False, random_state=33, splitter='best')"
      ]
     },
     "execution_count": 44,
     "metadata": {},
     "output_type": "execute_result"
    }
   ],
   "source": [
    "from sklearn.tree import DecisionTreeClassifier\n",
    "import numpy as np\n",
    "\n",
    "from sklearn import tree\n",
    "\n",
    "max_depth=3\n",
    "random_state=33\n",
    "\n",
    "# Create decision tree model\n",
    "model = tree.DecisionTreeClassifier(max_depth=max_depth, random_state=random_state)\n",
    "\n",
    "# Train the model using the training sets\n",
    "model.fit(x_train, y_train)\n",
    "#print(\"Prediction \", model.predict(x_train))\n",
    "#print(\"Expected \", y_train)\n"
   ]
  },
  {
   "cell_type": "code",
   "execution_count": 45,
   "metadata": {
    "collapsed": false
   },
   "outputs": [
    {
     "name": "stdout",
     "output_type": "stream",
     "text": [
      "Predicted probabilities [[ 0.65517241  0.34482759]\n",
      " [ 0.65517241  0.34482759]\n",
      " [ 0.89032258  0.10967742]\n",
      " [ 0.89032258  0.10967742]\n",
      " [ 0.89032258  0.10967742]\n",
      " [ 0.89032258  0.10967742]\n",
      " [ 0.89032258  0.10967742]\n",
      " [ 0.01449275  0.98550725]\n",
      " [ 0.89032258  0.10967742]\n",
      " [ 0.89032258  0.10967742]]\n"
     ]
    }
   ],
   "source": [
    "print(\"Predicted probabilities\", model.predict_proba(x_train[:10]))"
   ]
  },
  {
   "cell_type": "markdown",
   "metadata": {},
   "source": [
    "Las exactitudes son:"
   ]
  },
  {
   "cell_type": "code",
   "execution_count": 47,
   "metadata": {
    "collapsed": false
   },
   "outputs": [
    {
     "name": "stdout",
     "output_type": "stream",
     "text": [
      "Accuracy in training 0.817365269461\n",
      "Accuracy in testing  0.847533632287\n"
     ]
    }
   ],
   "source": [
    "# Evaluate Accuracy in training\n",
    "\n",
    "from sklearn import metrics\n",
    "y_train_pred = model.predict(x_train)\n",
    "print(\"Accuracy in training\", metrics.accuracy_score(y_train, y_train_pred))\n",
    "accuracy_tree_training1 = metrics.accuracy_score(y_train, y_train_pred)\n",
    "\n",
    "# Now we evaluate error in testing\n",
    "y_test_pred = model.predict(x_test)\n",
    "print(\"Accuracy in testing \", metrics.accuracy_score(y_test, y_test_pred))\n",
    "accuracy_tree_testing1 = metrics.accuracy_score(y_test, y_test_pred)\n"
   ]
  },
  {
   "cell_type": "markdown",
   "metadata": {},
   "source": [
    "Evaluamos las metricas del modelo:"
   ]
  },
  {
   "cell_type": "code",
   "execution_count": 49,
   "metadata": {
    "collapsed": false
   },
   "outputs": [
    {
     "name": "stdout",
     "output_type": "stream",
     "text": [
      "             precision    recall  f1-score   support\n",
      "\n",
      "          0       0.85      0.91      0.88       134\n",
      "          1       0.85      0.75      0.80        89\n",
      "\n",
      "avg / total       0.85      0.85      0.85       223\n",
      "\n",
      "[[122  12]\n",
      " [ 22  67]]\n"
     ]
    }
   ],
   "source": [
    "print(metrics.classification_report(y_test, y_test_pred))\n",
    "print(metrics.confusion_matrix(y_test, y_test_pred))"
   ]
  },
  {
   "cell_type": "markdown",
   "metadata": {},
   "source": [
    "### K-fold "
   ]
  },
  {
   "cell_type": "code",
   "execution_count": 51,
   "metadata": {
    "collapsed": false
   },
   "outputs": [
    {
     "name": "stdout",
     "output_type": "stream",
     "text": [
      "[ 0.77777778  0.88764045  0.86516854  0.79775281  0.80898876  0.78651685\n",
      "  0.84269663  0.76404494  0.80898876  0.82022472]\n",
      "Mean score: 0.816 (+/- 0.012)\n"
     ]
    }
   ],
   "source": [
    "# create a composite estimator made by a pipeline of preprocessing and the KNN model\n",
    "model = Pipeline([\n",
    "        ('scaler', StandardScaler()),\n",
    "        ('DecisionTree', DecisionTreeClassifier(max_depth=max_depth, random_state=random_state))\n",
    "])\n",
    "\n",
    "# create a k-fold cross validation iterator of k=10 folds\n",
    "cv = KFold(10, shuffle=True, random_state=33)\n",
    "\n",
    "# by default the score used is the one returned by score method of the estimator (accuracy)\n",
    "scores = cross_val_score(model, X, y, cv=cv)\n",
    "print(scores)\n",
    "def mean_score(scores):\n",
    "    return (\"Mean score: {0:.3f} (+/- {1:.3f})\").format(np.mean(scores), sem(scores))\n",
    "print(mean_score(scores))"
   ]
  },
  {
   "cell_type": "markdown",
   "metadata": {},
   "source": [
    "### Mejora del modelo con optimización Grid"
   ]
  },
  {
   "cell_type": "code",
   "execution_count": 53,
   "metadata": {
    "collapsed": false,
    "scrolled": false
   },
   "outputs": [
    {
     "name": "stdout",
     "output_type": "stream",
     "text": [
      "# Tuning hyper-parameters for precision\n",
      "\n",
      "Best parameters set found on development set:\n",
      "\n",
      "{'class_weight': None, 'criterion': 'gini', 'max_depth': 4, 'max_leaf_nodes': None, 'random_state': 33, 'splitter': 'random'}\n",
      "\n",
      "Grid scores on development set:\n",
      "\n",
      "0.790 (+/-0.084) for {'class_weight': 'balanced', 'criterion': 'gini', 'max_depth': 3, 'max_leaf_nodes': None, 'random_state': 33, 'splitter': 'best'}\n",
      "0.793 (+/-0.107) for {'class_weight': 'balanced', 'criterion': 'gini', 'max_depth': 3, 'max_leaf_nodes': None, 'random_state': 33, 'splitter': 'random'}\n",
      "0.792 (+/-0.068) for {'class_weight': 'balanced', 'criterion': 'gini', 'max_depth': 3, 'max_leaf_nodes': 10, 'random_state': 33, 'splitter': 'best'}\n",
      "0.755 (+/-0.112) for {'class_weight': 'balanced', 'criterion': 'gini', 'max_depth': 3, 'max_leaf_nodes': 10, 'random_state': 33, 'splitter': 'random'}\n",
      "0.790 (+/-0.067) for {'class_weight': 'balanced', 'criterion': 'gini', 'max_depth': 3, 'max_leaf_nodes': 16, 'random_state': 33, 'splitter': 'best'}\n",
      "0.757 (+/-0.115) for {'class_weight': 'balanced', 'criterion': 'gini', 'max_depth': 3, 'max_leaf_nodes': 16, 'random_state': 33, 'splitter': 'random'}\n",
      "0.790 (+/-0.067) for {'class_weight': 'balanced', 'criterion': 'gini', 'max_depth': 3, 'max_leaf_nodes': 20, 'random_state': 33, 'splitter': 'best'}\n",
      "0.757 (+/-0.115) for {'class_weight': 'balanced', 'criterion': 'gini', 'max_depth': 3, 'max_leaf_nodes': 20, 'random_state': 33, 'splitter': 'random'}\n",
      "0.790 (+/-0.067) for {'class_weight': 'balanced', 'criterion': 'gini', 'max_depth': 4, 'max_leaf_nodes': None, 'random_state': 33, 'splitter': 'best'}\n",
      "0.792 (+/-0.119) for {'class_weight': 'balanced', 'criterion': 'gini', 'max_depth': 4, 'max_leaf_nodes': None, 'random_state': 33, 'splitter': 'random'}\n",
      "0.794 (+/-0.080) for {'class_weight': 'balanced', 'criterion': 'gini', 'max_depth': 4, 'max_leaf_nodes': 10, 'random_state': 33, 'splitter': 'best'}\n",
      "0.757 (+/-0.115) for {'class_weight': 'balanced', 'criterion': 'gini', 'max_depth': 4, 'max_leaf_nodes': 10, 'random_state': 33, 'splitter': 'random'}\n",
      "0.790 (+/-0.096) for {'class_weight': 'balanced', 'criterion': 'gini', 'max_depth': 4, 'max_leaf_nodes': 16, 'random_state': 33, 'splitter': 'best'}\n",
      "0.769 (+/-0.106) for {'class_weight': 'balanced', 'criterion': 'gini', 'max_depth': 4, 'max_leaf_nodes': 16, 'random_state': 33, 'splitter': 'random'}\n",
      "0.791 (+/-0.104) for {'class_weight': 'balanced', 'criterion': 'gini', 'max_depth': 4, 'max_leaf_nodes': 20, 'random_state': 33, 'splitter': 'best'}\n",
      "0.778 (+/-0.105) for {'class_weight': 'balanced', 'criterion': 'gini', 'max_depth': 4, 'max_leaf_nodes': 20, 'random_state': 33, 'splitter': 'random'}\n",
      "0.786 (+/-0.105) for {'class_weight': 'balanced', 'criterion': 'gini', 'max_depth': 5, 'max_leaf_nodes': None, 'random_state': 33, 'splitter': 'best'}\n",
      "0.797 (+/-0.109) for {'class_weight': 'balanced', 'criterion': 'gini', 'max_depth': 5, 'max_leaf_nodes': None, 'random_state': 33, 'splitter': 'random'}\n",
      "0.796 (+/-0.085) for {'class_weight': 'balanced', 'criterion': 'gini', 'max_depth': 5, 'max_leaf_nodes': 10, 'random_state': 33, 'splitter': 'best'}\n",
      "0.762 (+/-0.116) for {'class_weight': 'balanced', 'criterion': 'gini', 'max_depth': 5, 'max_leaf_nodes': 10, 'random_state': 33, 'splitter': 'random'}\n",
      "0.796 (+/-0.088) for {'class_weight': 'balanced', 'criterion': 'gini', 'max_depth': 5, 'max_leaf_nodes': 16, 'random_state': 33, 'splitter': 'best'}\n",
      "0.769 (+/-0.112) for {'class_weight': 'balanced', 'criterion': 'gini', 'max_depth': 5, 'max_leaf_nodes': 16, 'random_state': 33, 'splitter': 'random'}\n",
      "0.791 (+/-0.113) for {'class_weight': 'balanced', 'criterion': 'gini', 'max_depth': 5, 'max_leaf_nodes': 20, 'random_state': 33, 'splitter': 'best'}\n",
      "0.779 (+/-0.093) for {'class_weight': 'balanced', 'criterion': 'gini', 'max_depth': 5, 'max_leaf_nodes': 20, 'random_state': 33, 'splitter': 'random'}\n",
      "0.781 (+/-0.111) for {'class_weight': 'balanced', 'criterion': 'gini', 'max_depth': 6, 'max_leaf_nodes': None, 'random_state': 33, 'splitter': 'best'}\n",
      "0.782 (+/-0.122) for {'class_weight': 'balanced', 'criterion': 'gini', 'max_depth': 6, 'max_leaf_nodes': None, 'random_state': 33, 'splitter': 'random'}\n",
      "0.796 (+/-0.085) for {'class_weight': 'balanced', 'criterion': 'gini', 'max_depth': 6, 'max_leaf_nodes': 10, 'random_state': 33, 'splitter': 'best'}\n",
      "0.762 (+/-0.116) for {'class_weight': 'balanced', 'criterion': 'gini', 'max_depth': 6, 'max_leaf_nodes': 10, 'random_state': 33, 'splitter': 'random'}\n",
      "0.800 (+/-0.084) for {'class_weight': 'balanced', 'criterion': 'gini', 'max_depth': 6, 'max_leaf_nodes': 16, 'random_state': 33, 'splitter': 'best'}\n",
      "0.760 (+/-0.127) for {'class_weight': 'balanced', 'criterion': 'gini', 'max_depth': 6, 'max_leaf_nodes': 16, 'random_state': 33, 'splitter': 'random'}\n",
      "0.794 (+/-0.090) for {'class_weight': 'balanced', 'criterion': 'gini', 'max_depth': 6, 'max_leaf_nodes': 20, 'random_state': 33, 'splitter': 'best'}\n",
      "0.764 (+/-0.118) for {'class_weight': 'balanced', 'criterion': 'gini', 'max_depth': 6, 'max_leaf_nodes': 20, 'random_state': 33, 'splitter': 'random'}\n",
      "0.778 (+/-0.103) for {'class_weight': 'balanced', 'criterion': 'gini', 'max_depth': 7, 'max_leaf_nodes': None, 'random_state': 33, 'splitter': 'best'}\n",
      "0.786 (+/-0.085) for {'class_weight': 'balanced', 'criterion': 'gini', 'max_depth': 7, 'max_leaf_nodes': None, 'random_state': 33, 'splitter': 'random'}\n",
      "0.796 (+/-0.085) for {'class_weight': 'balanced', 'criterion': 'gini', 'max_depth': 7, 'max_leaf_nodes': 10, 'random_state': 33, 'splitter': 'best'}\n",
      "0.762 (+/-0.116) for {'class_weight': 'balanced', 'criterion': 'gini', 'max_depth': 7, 'max_leaf_nodes': 10, 'random_state': 33, 'splitter': 'random'}\n",
      "0.801 (+/-0.090) for {'class_weight': 'balanced', 'criterion': 'gini', 'max_depth': 7, 'max_leaf_nodes': 16, 'random_state': 33, 'splitter': 'best'}\n",
      "0.760 (+/-0.127) for {'class_weight': 'balanced', 'criterion': 'gini', 'max_depth': 7, 'max_leaf_nodes': 16, 'random_state': 33, 'splitter': 'random'}\n",
      "0.802 (+/-0.104) for {'class_weight': 'balanced', 'criterion': 'gini', 'max_depth': 7, 'max_leaf_nodes': 20, 'random_state': 33, 'splitter': 'best'}\n",
      "0.769 (+/-0.112) for {'class_weight': 'balanced', 'criterion': 'gini', 'max_depth': 7, 'max_leaf_nodes': 20, 'random_state': 33, 'splitter': 'random'}\n",
      "0.776 (+/-0.096) for {'class_weight': 'balanced', 'criterion': 'gini', 'max_depth': 8, 'max_leaf_nodes': None, 'random_state': 33, 'splitter': 'best'}\n",
      "0.783 (+/-0.076) for {'class_weight': 'balanced', 'criterion': 'gini', 'max_depth': 8, 'max_leaf_nodes': None, 'random_state': 33, 'splitter': 'random'}\n",
      "0.796 (+/-0.085) for {'class_weight': 'balanced', 'criterion': 'gini', 'max_depth': 8, 'max_leaf_nodes': 10, 'random_state': 33, 'splitter': 'best'}\n",
      "0.762 (+/-0.116) for {'class_weight': 'balanced', 'criterion': 'gini', 'max_depth': 8, 'max_leaf_nodes': 10, 'random_state': 33, 'splitter': 'random'}\n",
      "0.802 (+/-0.088) for {'class_weight': 'balanced', 'criterion': 'gini', 'max_depth': 8, 'max_leaf_nodes': 16, 'random_state': 33, 'splitter': 'best'}\n",
      "0.760 (+/-0.127) for {'class_weight': 'balanced', 'criterion': 'gini', 'max_depth': 8, 'max_leaf_nodes': 16, 'random_state': 33, 'splitter': 'random'}\n",
      "0.806 (+/-0.097) for {'class_weight': 'balanced', 'criterion': 'gini', 'max_depth': 8, 'max_leaf_nodes': 20, 'random_state': 33, 'splitter': 'best'}\n",
      "0.769 (+/-0.115) for {'class_weight': 'balanced', 'criterion': 'gini', 'max_depth': 8, 'max_leaf_nodes': 20, 'random_state': 33, 'splitter': 'random'}\n",
      "0.770 (+/-0.111) for {'class_weight': 'balanced', 'criterion': 'gini', 'max_depth': 9, 'max_leaf_nodes': None, 'random_state': 33, 'splitter': 'best'}\n",
      "0.789 (+/-0.070) for {'class_weight': 'balanced', 'criterion': 'gini', 'max_depth': 9, 'max_leaf_nodes': None, 'random_state': 33, 'splitter': 'random'}\n",
      "0.796 (+/-0.085) for {'class_weight': 'balanced', 'criterion': 'gini', 'max_depth': 9, 'max_leaf_nodes': 10, 'random_state': 33, 'splitter': 'best'}\n",
      "0.762 (+/-0.116) for {'class_weight': 'balanced', 'criterion': 'gini', 'max_depth': 9, 'max_leaf_nodes': 10, 'random_state': 33, 'splitter': 'random'}\n",
      "0.802 (+/-0.088) for {'class_weight': 'balanced', 'criterion': 'gini', 'max_depth': 9, 'max_leaf_nodes': 16, 'random_state': 33, 'splitter': 'best'}\n",
      "0.760 (+/-0.127) for {'class_weight': 'balanced', 'criterion': 'gini', 'max_depth': 9, 'max_leaf_nodes': 16, 'random_state': 33, 'splitter': 'random'}\n",
      "0.805 (+/-0.101) for {'class_weight': 'balanced', 'criterion': 'gini', 'max_depth': 9, 'max_leaf_nodes': 20, 'random_state': 33, 'splitter': 'best'}\n",
      "0.769 (+/-0.115) for {'class_weight': 'balanced', 'criterion': 'gini', 'max_depth': 9, 'max_leaf_nodes': 20, 'random_state': 33, 'splitter': 'random'}\n",
      "0.762 (+/-0.115) for {'class_weight': 'balanced', 'criterion': 'gini', 'max_depth': 10, 'max_leaf_nodes': None, 'random_state': 33, 'splitter': 'best'}\n",
      "0.773 (+/-0.101) for {'class_weight': 'balanced', 'criterion': 'gini', 'max_depth': 10, 'max_leaf_nodes': None, 'random_state': 33, 'splitter': 'random'}\n",
      "0.796 (+/-0.085) for {'class_weight': 'balanced', 'criterion': 'gini', 'max_depth': 10, 'max_leaf_nodes': 10, 'random_state': 33, 'splitter': 'best'}\n",
      "0.762 (+/-0.116) for {'class_weight': 'balanced', 'criterion': 'gini', 'max_depth': 10, 'max_leaf_nodes': 10, 'random_state': 33, 'splitter': 'random'}\n",
      "0.802 (+/-0.088) for {'class_weight': 'balanced', 'criterion': 'gini', 'max_depth': 10, 'max_leaf_nodes': 16, 'random_state': 33, 'splitter': 'best'}\n",
      "0.760 (+/-0.127) for {'class_weight': 'balanced', 'criterion': 'gini', 'max_depth': 10, 'max_leaf_nodes': 16, 'random_state': 33, 'splitter': 'random'}\n",
      "0.806 (+/-0.101) for {'class_weight': 'balanced', 'criterion': 'gini', 'max_depth': 10, 'max_leaf_nodes': 20, 'random_state': 33, 'splitter': 'best'}\n",
      "0.769 (+/-0.115) for {'class_weight': 'balanced', 'criterion': 'gini', 'max_depth': 10, 'max_leaf_nodes': 20, 'random_state': 33, 'splitter': 'random'}\n",
      "0.766 (+/-0.109) for {'class_weight': 'balanced', 'criterion': 'gini', 'max_depth': 11, 'max_leaf_nodes': None, 'random_state': 33, 'splitter': 'best'}\n",
      "0.781 (+/-0.097) for {'class_weight': 'balanced', 'criterion': 'gini', 'max_depth': 11, 'max_leaf_nodes': None, 'random_state': 33, 'splitter': 'random'}\n",
      "0.796 (+/-0.085) for {'class_weight': 'balanced', 'criterion': 'gini', 'max_depth': 11, 'max_leaf_nodes': 10, 'random_state': 33, 'splitter': 'best'}\n",
      "0.762 (+/-0.116) for {'class_weight': 'balanced', 'criterion': 'gini', 'max_depth': 11, 'max_leaf_nodes': 10, 'random_state': 33, 'splitter': 'random'}\n",
      "0.802 (+/-0.088) for {'class_weight': 'balanced', 'criterion': 'gini', 'max_depth': 11, 'max_leaf_nodes': 16, 'random_state': 33, 'splitter': 'best'}\n",
      "0.760 (+/-0.127) for {'class_weight': 'balanced', 'criterion': 'gini', 'max_depth': 11, 'max_leaf_nodes': 16, 'random_state': 33, 'splitter': 'random'}\n",
      "0.806 (+/-0.101) for {'class_weight': 'balanced', 'criterion': 'gini', 'max_depth': 11, 'max_leaf_nodes': 20, 'random_state': 33, 'splitter': 'best'}\n",
      "0.769 (+/-0.115) for {'class_weight': 'balanced', 'criterion': 'gini', 'max_depth': 11, 'max_leaf_nodes': 20, 'random_state': 33, 'splitter': 'random'}\n",
      "0.775 (+/-0.091) for {'class_weight': 'balanced', 'criterion': 'gini', 'max_depth': 12, 'max_leaf_nodes': None, 'random_state': 33, 'splitter': 'best'}\n",
      "0.754 (+/-0.083) for {'class_weight': 'balanced', 'criterion': 'gini', 'max_depth': 12, 'max_leaf_nodes': None, 'random_state': 33, 'splitter': 'random'}\n",
      "0.796 (+/-0.085) for {'class_weight': 'balanced', 'criterion': 'gini', 'max_depth': 12, 'max_leaf_nodes': 10, 'random_state': 33, 'splitter': 'best'}\n",
      "0.762 (+/-0.116) for {'class_weight': 'balanced', 'criterion': 'gini', 'max_depth': 12, 'max_leaf_nodes': 10, 'random_state': 33, 'splitter': 'random'}\n",
      "0.802 (+/-0.088) for {'class_weight': 'balanced', 'criterion': 'gini', 'max_depth': 12, 'max_leaf_nodes': 16, 'random_state': 33, 'splitter': 'best'}\n",
      "0.760 (+/-0.127) for {'class_weight': 'balanced', 'criterion': 'gini', 'max_depth': 12, 'max_leaf_nodes': 16, 'random_state': 33, 'splitter': 'random'}\n",
      "0.806 (+/-0.101) for {'class_weight': 'balanced', 'criterion': 'gini', 'max_depth': 12, 'max_leaf_nodes': 20, 'random_state': 33, 'splitter': 'best'}\n",
      "0.769 (+/-0.115) for {'class_weight': 'balanced', 'criterion': 'gini', 'max_depth': 12, 'max_leaf_nodes': 20, 'random_state': 33, 'splitter': 'random'}\n",
      "0.767 (+/-0.100) for {'class_weight': 'balanced', 'criterion': 'gini', 'max_depth': 13, 'max_leaf_nodes': None, 'random_state': 33, 'splitter': 'best'}\n",
      "0.777 (+/-0.078) for {'class_weight': 'balanced', 'criterion': 'gini', 'max_depth': 13, 'max_leaf_nodes': None, 'random_state': 33, 'splitter': 'random'}\n",
      "0.796 (+/-0.085) for {'class_weight': 'balanced', 'criterion': 'gini', 'max_depth': 13, 'max_leaf_nodes': 10, 'random_state': 33, 'splitter': 'best'}\n",
      "0.762 (+/-0.116) for {'class_weight': 'balanced', 'criterion': 'gini', 'max_depth': 13, 'max_leaf_nodes': 10, 'random_state': 33, 'splitter': 'random'}\n",
      "0.802 (+/-0.088) for {'class_weight': 'balanced', 'criterion': 'gini', 'max_depth': 13, 'max_leaf_nodes': 16, 'random_state': 33, 'splitter': 'best'}\n",
      "0.760 (+/-0.127) for {'class_weight': 'balanced', 'criterion': 'gini', 'max_depth': 13, 'max_leaf_nodes': 16, 'random_state': 33, 'splitter': 'random'}\n",
      "0.806 (+/-0.101) for {'class_weight': 'balanced', 'criterion': 'gini', 'max_depth': 13, 'max_leaf_nodes': 20, 'random_state': 33, 'splitter': 'best'}\n",
      "0.769 (+/-0.115) for {'class_weight': 'balanced', 'criterion': 'gini', 'max_depth': 13, 'max_leaf_nodes': 20, 'random_state': 33, 'splitter': 'random'}\n",
      "0.766 (+/-0.081) for {'class_weight': 'balanced', 'criterion': 'gini', 'max_depth': 14, 'max_leaf_nodes': None, 'random_state': 33, 'splitter': 'best'}\n",
      "0.772 (+/-0.066) for {'class_weight': 'balanced', 'criterion': 'gini', 'max_depth': 14, 'max_leaf_nodes': None, 'random_state': 33, 'splitter': 'random'}\n",
      "0.796 (+/-0.085) for {'class_weight': 'balanced', 'criterion': 'gini', 'max_depth': 14, 'max_leaf_nodes': 10, 'random_state': 33, 'splitter': 'best'}\n",
      "0.762 (+/-0.116) for {'class_weight': 'balanced', 'criterion': 'gini', 'max_depth': 14, 'max_leaf_nodes': 10, 'random_state': 33, 'splitter': 'random'}\n",
      "0.802 (+/-0.088) for {'class_weight': 'balanced', 'criterion': 'gini', 'max_depth': 14, 'max_leaf_nodes': 16, 'random_state': 33, 'splitter': 'best'}\n",
      "0.760 (+/-0.127) for {'class_weight': 'balanced', 'criterion': 'gini', 'max_depth': 14, 'max_leaf_nodes': 16, 'random_state': 33, 'splitter': 'random'}\n",
      "0.806 (+/-0.101) for {'class_weight': 'balanced', 'criterion': 'gini', 'max_depth': 14, 'max_leaf_nodes': 20, 'random_state': 33, 'splitter': 'best'}\n",
      "0.769 (+/-0.115) for {'class_weight': 'balanced', 'criterion': 'gini', 'max_depth': 14, 'max_leaf_nodes': 20, 'random_state': 33, 'splitter': 'random'}\n",
      "0.800 (+/-0.093) for {'class_weight': 'balanced', 'criterion': 'entropy', 'max_depth': 3, 'max_leaf_nodes': None, 'random_state': 33, 'splitter': 'best'}\n",
      "0.793 (+/-0.107) for {'class_weight': 'balanced', 'criterion': 'entropy', 'max_depth': 3, 'max_leaf_nodes': None, 'random_state': 33, 'splitter': 'random'}\n",
      "0.802 (+/-0.078) for {'class_weight': 'balanced', 'criterion': 'entropy', 'max_depth': 3, 'max_leaf_nodes': 10, 'random_state': 33, 'splitter': 'best'}\n",
      "0.749 (+/-0.100) for {'class_weight': 'balanced', 'criterion': 'entropy', 'max_depth': 3, 'max_leaf_nodes': 10, 'random_state': 33, 'splitter': 'random'}\n",
      "0.790 (+/-0.093) for {'class_weight': 'balanced', 'criterion': 'entropy', 'max_depth': 3, 'max_leaf_nodes': 16, 'random_state': 33, 'splitter': 'best'}\n",
      "0.754 (+/-0.109) for {'class_weight': 'balanced', 'criterion': 'entropy', 'max_depth': 3, 'max_leaf_nodes': 16, 'random_state': 33, 'splitter': 'random'}\n",
      "0.790 (+/-0.093) for {'class_weight': 'balanced', 'criterion': 'entropy', 'max_depth': 3, 'max_leaf_nodes': 20, 'random_state': 33, 'splitter': 'best'}\n",
      "0.754 (+/-0.109) for {'class_weight': 'balanced', 'criterion': 'entropy', 'max_depth': 3, 'max_leaf_nodes': 20, 'random_state': 33, 'splitter': 'random'}\n",
      "0.790 (+/-0.093) for {'class_weight': 'balanced', 'criterion': 'entropy', 'max_depth': 4, 'max_leaf_nodes': None, 'random_state': 33, 'splitter': 'best'}\n",
      "0.788 (+/-0.126) for {'class_weight': 'balanced', 'criterion': 'entropy', 'max_depth': 4, 'max_leaf_nodes': None, 'random_state': 33, 'splitter': 'random'}\n",
      "0.804 (+/-0.078) for {'class_weight': 'balanced', 'criterion': 'entropy', 'max_depth': 4, 'max_leaf_nodes': 10, 'random_state': 33, 'splitter': 'best'}\n",
      "0.759 (+/-0.105) for {'class_weight': 'balanced', 'criterion': 'entropy', 'max_depth': 4, 'max_leaf_nodes': 10, 'random_state': 33, 'splitter': 'random'}\n",
      "0.792 (+/-0.087) for {'class_weight': 'balanced', 'criterion': 'entropy', 'max_depth': 4, 'max_leaf_nodes': 16, 'random_state': 33, 'splitter': 'best'}\n",
      "0.758 (+/-0.093) for {'class_weight': 'balanced', 'criterion': 'entropy', 'max_depth': 4, 'max_leaf_nodes': 16, 'random_state': 33, 'splitter': 'random'}\n",
      "0.792 (+/-0.087) for {'class_weight': 'balanced', 'criterion': 'entropy', 'max_depth': 4, 'max_leaf_nodes': 20, 'random_state': 33, 'splitter': 'best'}\n",
      "0.763 (+/-0.094) for {'class_weight': 'balanced', 'criterion': 'entropy', 'max_depth': 4, 'max_leaf_nodes': 20, 'random_state': 33, 'splitter': 'random'}\n",
      "0.789 (+/-0.088) for {'class_weight': 'balanced', 'criterion': 'entropy', 'max_depth': 5, 'max_leaf_nodes': None, 'random_state': 33, 'splitter': 'best'}\n",
      "0.806 (+/-0.116) for {'class_weight': 'balanced', 'criterion': 'entropy', 'max_depth': 5, 'max_leaf_nodes': None, 'random_state': 33, 'splitter': 'random'}\n",
      "0.799 (+/-0.067) for {'class_weight': 'balanced', 'criterion': 'entropy', 'max_depth': 5, 'max_leaf_nodes': 10, 'random_state': 33, 'splitter': 'best'}\n",
      "0.763 (+/-0.106) for {'class_weight': 'balanced', 'criterion': 'entropy', 'max_depth': 5, 'max_leaf_nodes': 10, 'random_state': 33, 'splitter': 'random'}\n",
      "0.793 (+/-0.078) for {'class_weight': 'balanced', 'criterion': 'entropy', 'max_depth': 5, 'max_leaf_nodes': 16, 'random_state': 33, 'splitter': 'best'}\n",
      "0.757 (+/-0.110) for {'class_weight': 'balanced', 'criterion': 'entropy', 'max_depth': 5, 'max_leaf_nodes': 16, 'random_state': 33, 'splitter': 'random'}\n",
      "0.791 (+/-0.091) for {'class_weight': 'balanced', 'criterion': 'entropy', 'max_depth': 5, 'max_leaf_nodes': 20, 'random_state': 33, 'splitter': 'best'}\n",
      "0.770 (+/-0.108) for {'class_weight': 'balanced', 'criterion': 'entropy', 'max_depth': 5, 'max_leaf_nodes': 20, 'random_state': 33, 'splitter': 'random'}\n",
      "0.786 (+/-0.100) for {'class_weight': 'balanced', 'criterion': 'entropy', 'max_depth': 6, 'max_leaf_nodes': None, 'random_state': 33, 'splitter': 'best'}\n",
      "0.786 (+/-0.105) for {'class_weight': 'balanced', 'criterion': 'entropy', 'max_depth': 6, 'max_leaf_nodes': None, 'random_state': 33, 'splitter': 'random'}\n",
      "0.799 (+/-0.067) for {'class_weight': 'balanced', 'criterion': 'entropy', 'max_depth': 6, 'max_leaf_nodes': 10, 'random_state': 33, 'splitter': 'best'}\n",
      "0.763 (+/-0.106) for {'class_weight': 'balanced', 'criterion': 'entropy', 'max_depth': 6, 'max_leaf_nodes': 10, 'random_state': 33, 'splitter': 'random'}\n",
      "0.798 (+/-0.080) for {'class_weight': 'balanced', 'criterion': 'entropy', 'max_depth': 6, 'max_leaf_nodes': 16, 'random_state': 33, 'splitter': 'best'}\n",
      "0.757 (+/-0.096) for {'class_weight': 'balanced', 'criterion': 'entropy', 'max_depth': 6, 'max_leaf_nodes': 16, 'random_state': 33, 'splitter': 'random'}\n",
      "0.796 (+/-0.086) for {'class_weight': 'balanced', 'criterion': 'entropy', 'max_depth': 6, 'max_leaf_nodes': 20, 'random_state': 33, 'splitter': 'best'}\n",
      "0.767 (+/-0.102) for {'class_weight': 'balanced', 'criterion': 'entropy', 'max_depth': 6, 'max_leaf_nodes': 20, 'random_state': 33, 'splitter': 'random'}\n",
      "0.775 (+/-0.103) for {'class_weight': 'balanced', 'criterion': 'entropy', 'max_depth': 7, 'max_leaf_nodes': None, 'random_state': 33, 'splitter': 'best'}\n",
      "0.790 (+/-0.098) for {'class_weight': 'balanced', 'criterion': 'entropy', 'max_depth': 7, 'max_leaf_nodes': None, 'random_state': 33, 'splitter': 'random'}\n",
      "0.799 (+/-0.067) for {'class_weight': 'balanced', 'criterion': 'entropy', 'max_depth': 7, 'max_leaf_nodes': 10, 'random_state': 33, 'splitter': 'best'}\n",
      "0.763 (+/-0.106) for {'class_weight': 'balanced', 'criterion': 'entropy', 'max_depth': 7, 'max_leaf_nodes': 10, 'random_state': 33, 'splitter': 'random'}\n",
      "0.800 (+/-0.095) for {'class_weight': 'balanced', 'criterion': 'entropy', 'max_depth': 7, 'max_leaf_nodes': 16, 'random_state': 33, 'splitter': 'best'}\n",
      "0.761 (+/-0.112) for {'class_weight': 'balanced', 'criterion': 'entropy', 'max_depth': 7, 'max_leaf_nodes': 16, 'random_state': 33, 'splitter': 'random'}\n",
      "0.795 (+/-0.087) for {'class_weight': 'balanced', 'criterion': 'entropy', 'max_depth': 7, 'max_leaf_nodes': 20, 'random_state': 33, 'splitter': 'best'}\n",
      "0.761 (+/-0.105) for {'class_weight': 'balanced', 'criterion': 'entropy', 'max_depth': 7, 'max_leaf_nodes': 20, 'random_state': 33, 'splitter': 'random'}\n",
      "0.764 (+/-0.118) for {'class_weight': 'balanced', 'criterion': 'entropy', 'max_depth': 8, 'max_leaf_nodes': None, 'random_state': 33, 'splitter': 'best'}\n",
      "0.770 (+/-0.098) for {'class_weight': 'balanced', 'criterion': 'entropy', 'max_depth': 8, 'max_leaf_nodes': None, 'random_state': 33, 'splitter': 'random'}\n",
      "0.799 (+/-0.067) for {'class_weight': 'balanced', 'criterion': 'entropy', 'max_depth': 8, 'max_leaf_nodes': 10, 'random_state': 33, 'splitter': 'best'}\n",
      "0.763 (+/-0.106) for {'class_weight': 'balanced', 'criterion': 'entropy', 'max_depth': 8, 'max_leaf_nodes': 10, 'random_state': 33, 'splitter': 'random'}\n",
      "0.797 (+/-0.096) for {'class_weight': 'balanced', 'criterion': 'entropy', 'max_depth': 8, 'max_leaf_nodes': 16, 'random_state': 33, 'splitter': 'best'}\n",
      "0.761 (+/-0.112) for {'class_weight': 'balanced', 'criterion': 'entropy', 'max_depth': 8, 'max_leaf_nodes': 16, 'random_state': 33, 'splitter': 'random'}\n",
      "0.796 (+/-0.086) for {'class_weight': 'balanced', 'criterion': 'entropy', 'max_depth': 8, 'max_leaf_nodes': 20, 'random_state': 33, 'splitter': 'best'}\n",
      "0.760 (+/-0.118) for {'class_weight': 'balanced', 'criterion': 'entropy', 'max_depth': 8, 'max_leaf_nodes': 20, 'random_state': 33, 'splitter': 'random'}\n",
      "0.763 (+/-0.078) for {'class_weight': 'balanced', 'criterion': 'entropy', 'max_depth': 9, 'max_leaf_nodes': None, 'random_state': 33, 'splitter': 'best'}\n",
      "0.765 (+/-0.138) for {'class_weight': 'balanced', 'criterion': 'entropy', 'max_depth': 9, 'max_leaf_nodes': None, 'random_state': 33, 'splitter': 'random'}\n",
      "0.799 (+/-0.067) for {'class_weight': 'balanced', 'criterion': 'entropy', 'max_depth': 9, 'max_leaf_nodes': 10, 'random_state': 33, 'splitter': 'best'}\n",
      "0.763 (+/-0.106) for {'class_weight': 'balanced', 'criterion': 'entropy', 'max_depth': 9, 'max_leaf_nodes': 10, 'random_state': 33, 'splitter': 'random'}\n",
      "0.797 (+/-0.096) for {'class_weight': 'balanced', 'criterion': 'entropy', 'max_depth': 9, 'max_leaf_nodes': 16, 'random_state': 33, 'splitter': 'best'}\n",
      "0.764 (+/-0.116) for {'class_weight': 'balanced', 'criterion': 'entropy', 'max_depth': 9, 'max_leaf_nodes': 16, 'random_state': 33, 'splitter': 'random'}\n",
      "0.798 (+/-0.087) for {'class_weight': 'balanced', 'criterion': 'entropy', 'max_depth': 9, 'max_leaf_nodes': 20, 'random_state': 33, 'splitter': 'best'}\n",
      "0.764 (+/-0.124) for {'class_weight': 'balanced', 'criterion': 'entropy', 'max_depth': 9, 'max_leaf_nodes': 20, 'random_state': 33, 'splitter': 'random'}\n",
      "0.762 (+/-0.094) for {'class_weight': 'balanced', 'criterion': 'entropy', 'max_depth': 10, 'max_leaf_nodes': None, 'random_state': 33, 'splitter': 'best'}\n",
      "0.790 (+/-0.129) for {'class_weight': 'balanced', 'criterion': 'entropy', 'max_depth': 10, 'max_leaf_nodes': None, 'random_state': 33, 'splitter': 'random'}\n",
      "0.799 (+/-0.067) for {'class_weight': 'balanced', 'criterion': 'entropy', 'max_depth': 10, 'max_leaf_nodes': 10, 'random_state': 33, 'splitter': 'best'}\n",
      "0.763 (+/-0.106) for {'class_weight': 'balanced', 'criterion': 'entropy', 'max_depth': 10, 'max_leaf_nodes': 10, 'random_state': 33, 'splitter': 'random'}\n",
      "0.797 (+/-0.096) for {'class_weight': 'balanced', 'criterion': 'entropy', 'max_depth': 10, 'max_leaf_nodes': 16, 'random_state': 33, 'splitter': 'best'}\n",
      "0.764 (+/-0.116) for {'class_weight': 'balanced', 'criterion': 'entropy', 'max_depth': 10, 'max_leaf_nodes': 16, 'random_state': 33, 'splitter': 'random'}\n",
      "0.797 (+/-0.087) for {'class_weight': 'balanced', 'criterion': 'entropy', 'max_depth': 10, 'max_leaf_nodes': 20, 'random_state': 33, 'splitter': 'best'}\n",
      "0.764 (+/-0.124) for {'class_weight': 'balanced', 'criterion': 'entropy', 'max_depth': 10, 'max_leaf_nodes': 20, 'random_state': 33, 'splitter': 'random'}\n",
      "0.752 (+/-0.090) for {'class_weight': 'balanced', 'criterion': 'entropy', 'max_depth': 11, 'max_leaf_nodes': None, 'random_state': 33, 'splitter': 'best'}\n",
      "0.796 (+/-0.094) for {'class_weight': 'balanced', 'criterion': 'entropy', 'max_depth': 11, 'max_leaf_nodes': None, 'random_state': 33, 'splitter': 'random'}\n",
      "0.799 (+/-0.067) for {'class_weight': 'balanced', 'criterion': 'entropy', 'max_depth': 11, 'max_leaf_nodes': 10, 'random_state': 33, 'splitter': 'best'}\n",
      "0.763 (+/-0.106) for {'class_weight': 'balanced', 'criterion': 'entropy', 'max_depth': 11, 'max_leaf_nodes': 10, 'random_state': 33, 'splitter': 'random'}\n",
      "0.797 (+/-0.096) for {'class_weight': 'balanced', 'criterion': 'entropy', 'max_depth': 11, 'max_leaf_nodes': 16, 'random_state': 33, 'splitter': 'best'}\n",
      "0.764 (+/-0.116) for {'class_weight': 'balanced', 'criterion': 'entropy', 'max_depth': 11, 'max_leaf_nodes': 16, 'random_state': 33, 'splitter': 'random'}\n",
      "0.797 (+/-0.087) for {'class_weight': 'balanced', 'criterion': 'entropy', 'max_depth': 11, 'max_leaf_nodes': 20, 'random_state': 33, 'splitter': 'best'}\n",
      "0.764 (+/-0.124) for {'class_weight': 'balanced', 'criterion': 'entropy', 'max_depth': 11, 'max_leaf_nodes': 20, 'random_state': 33, 'splitter': 'random'}\n",
      "0.769 (+/-0.093) for {'class_weight': 'balanced', 'criterion': 'entropy', 'max_depth': 12, 'max_leaf_nodes': None, 'random_state': 33, 'splitter': 'best'}\n",
      "0.800 (+/-0.098) for {'class_weight': 'balanced', 'criterion': 'entropy', 'max_depth': 12, 'max_leaf_nodes': None, 'random_state': 33, 'splitter': 'random'}\n",
      "0.799 (+/-0.067) for {'class_weight': 'balanced', 'criterion': 'entropy', 'max_depth': 12, 'max_leaf_nodes': 10, 'random_state': 33, 'splitter': 'best'}\n",
      "0.763 (+/-0.106) for {'class_weight': 'balanced', 'criterion': 'entropy', 'max_depth': 12, 'max_leaf_nodes': 10, 'random_state': 33, 'splitter': 'random'}\n",
      "0.797 (+/-0.096) for {'class_weight': 'balanced', 'criterion': 'entropy', 'max_depth': 12, 'max_leaf_nodes': 16, 'random_state': 33, 'splitter': 'best'}\n",
      "0.764 (+/-0.116) for {'class_weight': 'balanced', 'criterion': 'entropy', 'max_depth': 12, 'max_leaf_nodes': 16, 'random_state': 33, 'splitter': 'random'}\n",
      "0.797 (+/-0.087) for {'class_weight': 'balanced', 'criterion': 'entropy', 'max_depth': 12, 'max_leaf_nodes': 20, 'random_state': 33, 'splitter': 'best'}\n",
      "0.764 (+/-0.124) for {'class_weight': 'balanced', 'criterion': 'entropy', 'max_depth': 12, 'max_leaf_nodes': 20, 'random_state': 33, 'splitter': 'random'}\n",
      "0.768 (+/-0.086) for {'class_weight': 'balanced', 'criterion': 'entropy', 'max_depth': 13, 'max_leaf_nodes': None, 'random_state': 33, 'splitter': 'best'}\n",
      "0.765 (+/-0.103) for {'class_weight': 'balanced', 'criterion': 'entropy', 'max_depth': 13, 'max_leaf_nodes': None, 'random_state': 33, 'splitter': 'random'}\n",
      "0.799 (+/-0.067) for {'class_weight': 'balanced', 'criterion': 'entropy', 'max_depth': 13, 'max_leaf_nodes': 10, 'random_state': 33, 'splitter': 'best'}\n",
      "0.763 (+/-0.106) for {'class_weight': 'balanced', 'criterion': 'entropy', 'max_depth': 13, 'max_leaf_nodes': 10, 'random_state': 33, 'splitter': 'random'}\n",
      "0.797 (+/-0.096) for {'class_weight': 'balanced', 'criterion': 'entropy', 'max_depth': 13, 'max_leaf_nodes': 16, 'random_state': 33, 'splitter': 'best'}\n",
      "0.764 (+/-0.116) for {'class_weight': 'balanced', 'criterion': 'entropy', 'max_depth': 13, 'max_leaf_nodes': 16, 'random_state': 33, 'splitter': 'random'}\n",
      "0.797 (+/-0.087) for {'class_weight': 'balanced', 'criterion': 'entropy', 'max_depth': 13, 'max_leaf_nodes': 20, 'random_state': 33, 'splitter': 'best'}\n",
      "0.764 (+/-0.124) for {'class_weight': 'balanced', 'criterion': 'entropy', 'max_depth': 13, 'max_leaf_nodes': 20, 'random_state': 33, 'splitter': 'random'}\n",
      "0.763 (+/-0.083) for {'class_weight': 'balanced', 'criterion': 'entropy', 'max_depth': 14, 'max_leaf_nodes': None, 'random_state': 33, 'splitter': 'best'}\n",
      "0.786 (+/-0.098) for {'class_weight': 'balanced', 'criterion': 'entropy', 'max_depth': 14, 'max_leaf_nodes': None, 'random_state': 33, 'splitter': 'random'}\n",
      "0.799 (+/-0.067) for {'class_weight': 'balanced', 'criterion': 'entropy', 'max_depth': 14, 'max_leaf_nodes': 10, 'random_state': 33, 'splitter': 'best'}\n",
      "0.763 (+/-0.106) for {'class_weight': 'balanced', 'criterion': 'entropy', 'max_depth': 14, 'max_leaf_nodes': 10, 'random_state': 33, 'splitter': 'random'}\n",
      "0.797 (+/-0.096) for {'class_weight': 'balanced', 'criterion': 'entropy', 'max_depth': 14, 'max_leaf_nodes': 16, 'random_state': 33, 'splitter': 'best'}\n",
      "0.764 (+/-0.116) for {'class_weight': 'balanced', 'criterion': 'entropy', 'max_depth': 14, 'max_leaf_nodes': 16, 'random_state': 33, 'splitter': 'random'}\n",
      "0.797 (+/-0.087) for {'class_weight': 'balanced', 'criterion': 'entropy', 'max_depth': 14, 'max_leaf_nodes': 20, 'random_state': 33, 'splitter': 'best'}\n",
      "0.764 (+/-0.124) for {'class_weight': 'balanced', 'criterion': 'entropy', 'max_depth': 14, 'max_leaf_nodes': 20, 'random_state': 33, 'splitter': 'random'}\n",
      "0.810 (+/-0.084) for {'class_weight': None, 'criterion': 'gini', 'max_depth': 3, 'max_leaf_nodes': None, 'random_state': 33, 'splitter': 'best'}\n",
      "0.804 (+/-0.105) for {'class_weight': None, 'criterion': 'gini', 'max_depth': 3, 'max_leaf_nodes': None, 'random_state': 33, 'splitter': 'random'}\n",
      "0.810 (+/-0.095) for {'class_weight': None, 'criterion': 'gini', 'max_depth': 3, 'max_leaf_nodes': 10, 'random_state': 33, 'splitter': 'best'}\n",
      "0.813 (+/-0.090) for {'class_weight': None, 'criterion': 'gini', 'max_depth': 3, 'max_leaf_nodes': 10, 'random_state': 33, 'splitter': 'random'}\n",
      "0.809 (+/-0.092) for {'class_weight': None, 'criterion': 'gini', 'max_depth': 3, 'max_leaf_nodes': 16, 'random_state': 33, 'splitter': 'best'}\n",
      "0.806 (+/-0.092) for {'class_weight': None, 'criterion': 'gini', 'max_depth': 3, 'max_leaf_nodes': 16, 'random_state': 33, 'splitter': 'random'}\n",
      "0.809 (+/-0.092) for {'class_weight': None, 'criterion': 'gini', 'max_depth': 3, 'max_leaf_nodes': 20, 'random_state': 33, 'splitter': 'best'}\n",
      "0.806 (+/-0.092) for {'class_weight': None, 'criterion': 'gini', 'max_depth': 3, 'max_leaf_nodes': 20, 'random_state': 33, 'splitter': 'random'}\n",
      "0.808 (+/-0.097) for {'class_weight': None, 'criterion': 'gini', 'max_depth': 4, 'max_leaf_nodes': None, 'random_state': 33, 'splitter': 'best'}\n",
      "0.828 (+/-0.106) for {'class_weight': None, 'criterion': 'gini', 'max_depth': 4, 'max_leaf_nodes': None, 'random_state': 33, 'splitter': 'random'}\n",
      "0.804 (+/-0.095) for {'class_weight': None, 'criterion': 'gini', 'max_depth': 4, 'max_leaf_nodes': 10, 'random_state': 33, 'splitter': 'best'}\n",
      "0.822 (+/-0.094) for {'class_weight': None, 'criterion': 'gini', 'max_depth': 4, 'max_leaf_nodes': 10, 'random_state': 33, 'splitter': 'random'}\n",
      "0.808 (+/-0.096) for {'class_weight': None, 'criterion': 'gini', 'max_depth': 4, 'max_leaf_nodes': 16, 'random_state': 33, 'splitter': 'best'}\n",
      "0.812 (+/-0.089) for {'class_weight': None, 'criterion': 'gini', 'max_depth': 4, 'max_leaf_nodes': 16, 'random_state': 33, 'splitter': 'random'}\n",
      "0.800 (+/-0.102) for {'class_weight': None, 'criterion': 'gini', 'max_depth': 4, 'max_leaf_nodes': 20, 'random_state': 33, 'splitter': 'best'}\n",
      "0.806 (+/-0.093) for {'class_weight': None, 'criterion': 'gini', 'max_depth': 4, 'max_leaf_nodes': 20, 'random_state': 33, 'splitter': 'random'}\n",
      "0.796 (+/-0.108) for {'class_weight': None, 'criterion': 'gini', 'max_depth': 5, 'max_leaf_nodes': None, 'random_state': 33, 'splitter': 'best'}\n",
      "0.818 (+/-0.110) for {'class_weight': None, 'criterion': 'gini', 'max_depth': 5, 'max_leaf_nodes': None, 'random_state': 33, 'splitter': 'random'}\n",
      "0.802 (+/-0.085) for {'class_weight': None, 'criterion': 'gini', 'max_depth': 5, 'max_leaf_nodes': 10, 'random_state': 33, 'splitter': 'best'}\n",
      "0.822 (+/-0.094) for {'class_weight': None, 'criterion': 'gini', 'max_depth': 5, 'max_leaf_nodes': 10, 'random_state': 33, 'splitter': 'random'}\n",
      "0.820 (+/-0.088) for {'class_weight': None, 'criterion': 'gini', 'max_depth': 5, 'max_leaf_nodes': 16, 'random_state': 33, 'splitter': 'best'}\n",
      "0.807 (+/-0.112) for {'class_weight': None, 'criterion': 'gini', 'max_depth': 5, 'max_leaf_nodes': 16, 'random_state': 33, 'splitter': 'random'}\n",
      "0.813 (+/-0.093) for {'class_weight': None, 'criterion': 'gini', 'max_depth': 5, 'max_leaf_nodes': 20, 'random_state': 33, 'splitter': 'best'}\n",
      "0.791 (+/-0.098) for {'class_weight': None, 'criterion': 'gini', 'max_depth': 5, 'max_leaf_nodes': 20, 'random_state': 33, 'splitter': 'random'}\n",
      "0.789 (+/-0.090) for {'class_weight': None, 'criterion': 'gini', 'max_depth': 6, 'max_leaf_nodes': None, 'random_state': 33, 'splitter': 'best'}\n",
      "0.800 (+/-0.093) for {'class_weight': None, 'criterion': 'gini', 'max_depth': 6, 'max_leaf_nodes': None, 'random_state': 33, 'splitter': 'random'}\n",
      "0.802 (+/-0.085) for {'class_weight': None, 'criterion': 'gini', 'max_depth': 6, 'max_leaf_nodes': 10, 'random_state': 33, 'splitter': 'best'}\n",
      "0.822 (+/-0.094) for {'class_weight': None, 'criterion': 'gini', 'max_depth': 6, 'max_leaf_nodes': 10, 'random_state': 33, 'splitter': 'random'}\n",
      "0.816 (+/-0.087) for {'class_weight': None, 'criterion': 'gini', 'max_depth': 6, 'max_leaf_nodes': 16, 'random_state': 33, 'splitter': 'best'}\n",
      "0.810 (+/-0.112) for {'class_weight': None, 'criterion': 'gini', 'max_depth': 6, 'max_leaf_nodes': 16, 'random_state': 33, 'splitter': 'random'}\n",
      "0.816 (+/-0.091) for {'class_weight': None, 'criterion': 'gini', 'max_depth': 6, 'max_leaf_nodes': 20, 'random_state': 33, 'splitter': 'best'}\n",
      "0.810 (+/-0.112) for {'class_weight': None, 'criterion': 'gini', 'max_depth': 6, 'max_leaf_nodes': 20, 'random_state': 33, 'splitter': 'random'}\n",
      "0.775 (+/-0.121) for {'class_weight': None, 'criterion': 'gini', 'max_depth': 7, 'max_leaf_nodes': None, 'random_state': 33, 'splitter': 'best'}\n",
      "0.798 (+/-0.093) for {'class_weight': None, 'criterion': 'gini', 'max_depth': 7, 'max_leaf_nodes': None, 'random_state': 33, 'splitter': 'random'}\n",
      "0.802 (+/-0.085) for {'class_weight': None, 'criterion': 'gini', 'max_depth': 7, 'max_leaf_nodes': 10, 'random_state': 33, 'splitter': 'best'}\n",
      "0.822 (+/-0.094) for {'class_weight': None, 'criterion': 'gini', 'max_depth': 7, 'max_leaf_nodes': 10, 'random_state': 33, 'splitter': 'random'}\n",
      "0.808 (+/-0.097) for {'class_weight': None, 'criterion': 'gini', 'max_depth': 7, 'max_leaf_nodes': 16, 'random_state': 33, 'splitter': 'best'}\n",
      "0.809 (+/-0.111) for {'class_weight': None, 'criterion': 'gini', 'max_depth': 7, 'max_leaf_nodes': 16, 'random_state': 33, 'splitter': 'random'}\n",
      "0.808 (+/-0.101) for {'class_weight': None, 'criterion': 'gini', 'max_depth': 7, 'max_leaf_nodes': 20, 'random_state': 33, 'splitter': 'best'}\n",
      "0.810 (+/-0.120) for {'class_weight': None, 'criterion': 'gini', 'max_depth': 7, 'max_leaf_nodes': 20, 'random_state': 33, 'splitter': 'random'}\n",
      "0.767 (+/-0.117) for {'class_weight': None, 'criterion': 'gini', 'max_depth': 8, 'max_leaf_nodes': None, 'random_state': 33, 'splitter': 'best'}\n",
      "0.783 (+/-0.091) for {'class_weight': None, 'criterion': 'gini', 'max_depth': 8, 'max_leaf_nodes': None, 'random_state': 33, 'splitter': 'random'}\n",
      "0.802 (+/-0.085) for {'class_weight': None, 'criterion': 'gini', 'max_depth': 8, 'max_leaf_nodes': 10, 'random_state': 33, 'splitter': 'best'}\n",
      "0.822 (+/-0.094) for {'class_weight': None, 'criterion': 'gini', 'max_depth': 8, 'max_leaf_nodes': 10, 'random_state': 33, 'splitter': 'random'}\n",
      "0.807 (+/-0.093) for {'class_weight': None, 'criterion': 'gini', 'max_depth': 8, 'max_leaf_nodes': 16, 'random_state': 33, 'splitter': 'best'}\n",
      "0.809 (+/-0.111) for {'class_weight': None, 'criterion': 'gini', 'max_depth': 8, 'max_leaf_nodes': 16, 'random_state': 33, 'splitter': 'random'}\n",
      "0.809 (+/-0.101) for {'class_weight': None, 'criterion': 'gini', 'max_depth': 8, 'max_leaf_nodes': 20, 'random_state': 33, 'splitter': 'best'}\n",
      "0.811 (+/-0.111) for {'class_weight': None, 'criterion': 'gini', 'max_depth': 8, 'max_leaf_nodes': 20, 'random_state': 33, 'splitter': 'random'}\n",
      "0.765 (+/-0.101) for {'class_weight': None, 'criterion': 'gini', 'max_depth': 9, 'max_leaf_nodes': None, 'random_state': 33, 'splitter': 'best'}\n",
      "0.781 (+/-0.089) for {'class_weight': None, 'criterion': 'gini', 'max_depth': 9, 'max_leaf_nodes': None, 'random_state': 33, 'splitter': 'random'}\n",
      "0.802 (+/-0.085) for {'class_weight': None, 'criterion': 'gini', 'max_depth': 9, 'max_leaf_nodes': 10, 'random_state': 33, 'splitter': 'best'}\n",
      "0.822 (+/-0.094) for {'class_weight': None, 'criterion': 'gini', 'max_depth': 9, 'max_leaf_nodes': 10, 'random_state': 33, 'splitter': 'random'}\n",
      "0.807 (+/-0.093) for {'class_weight': None, 'criterion': 'gini', 'max_depth': 9, 'max_leaf_nodes': 16, 'random_state': 33, 'splitter': 'best'}\n",
      "0.809 (+/-0.111) for {'class_weight': None, 'criterion': 'gini', 'max_depth': 9, 'max_leaf_nodes': 16, 'random_state': 33, 'splitter': 'random'}\n",
      "0.808 (+/-0.105) for {'class_weight': None, 'criterion': 'gini', 'max_depth': 9, 'max_leaf_nodes': 20, 'random_state': 33, 'splitter': 'best'}\n",
      "0.811 (+/-0.111) for {'class_weight': None, 'criterion': 'gini', 'max_depth': 9, 'max_leaf_nodes': 20, 'random_state': 33, 'splitter': 'random'}\n",
      "0.770 (+/-0.103) for {'class_weight': None, 'criterion': 'gini', 'max_depth': 10, 'max_leaf_nodes': None, 'random_state': 33, 'splitter': 'best'}\n",
      "0.763 (+/-0.073) for {'class_weight': None, 'criterion': 'gini', 'max_depth': 10, 'max_leaf_nodes': None, 'random_state': 33, 'splitter': 'random'}\n",
      "0.802 (+/-0.085) for {'class_weight': None, 'criterion': 'gini', 'max_depth': 10, 'max_leaf_nodes': 10, 'random_state': 33, 'splitter': 'best'}\n",
      "0.822 (+/-0.094) for {'class_weight': None, 'criterion': 'gini', 'max_depth': 10, 'max_leaf_nodes': 10, 'random_state': 33, 'splitter': 'random'}\n",
      "0.807 (+/-0.093) for {'class_weight': None, 'criterion': 'gini', 'max_depth': 10, 'max_leaf_nodes': 16, 'random_state': 33, 'splitter': 'best'}\n",
      "0.809 (+/-0.111) for {'class_weight': None, 'criterion': 'gini', 'max_depth': 10, 'max_leaf_nodes': 16, 'random_state': 33, 'splitter': 'random'}\n",
      "0.808 (+/-0.105) for {'class_weight': None, 'criterion': 'gini', 'max_depth': 10, 'max_leaf_nodes': 20, 'random_state': 33, 'splitter': 'best'}\n",
      "0.811 (+/-0.111) for {'class_weight': None, 'criterion': 'gini', 'max_depth': 10, 'max_leaf_nodes': 20, 'random_state': 33, 'splitter': 'random'}\n",
      "0.769 (+/-0.115) for {'class_weight': None, 'criterion': 'gini', 'max_depth': 11, 'max_leaf_nodes': None, 'random_state': 33, 'splitter': 'best'}\n",
      "0.766 (+/-0.097) for {'class_weight': None, 'criterion': 'gini', 'max_depth': 11, 'max_leaf_nodes': None, 'random_state': 33, 'splitter': 'random'}\n",
      "0.802 (+/-0.085) for {'class_weight': None, 'criterion': 'gini', 'max_depth': 11, 'max_leaf_nodes': 10, 'random_state': 33, 'splitter': 'best'}\n",
      "0.822 (+/-0.094) for {'class_weight': None, 'criterion': 'gini', 'max_depth': 11, 'max_leaf_nodes': 10, 'random_state': 33, 'splitter': 'random'}\n",
      "0.807 (+/-0.093) for {'class_weight': None, 'criterion': 'gini', 'max_depth': 11, 'max_leaf_nodes': 16, 'random_state': 33, 'splitter': 'best'}\n",
      "0.809 (+/-0.111) for {'class_weight': None, 'criterion': 'gini', 'max_depth': 11, 'max_leaf_nodes': 16, 'random_state': 33, 'splitter': 'random'}\n",
      "0.808 (+/-0.105) for {'class_weight': None, 'criterion': 'gini', 'max_depth': 11, 'max_leaf_nodes': 20, 'random_state': 33, 'splitter': 'best'}\n",
      "0.811 (+/-0.111) for {'class_weight': None, 'criterion': 'gini', 'max_depth': 11, 'max_leaf_nodes': 20, 'random_state': 33, 'splitter': 'random'}\n",
      "0.768 (+/-0.126) for {'class_weight': None, 'criterion': 'gini', 'max_depth': 12, 'max_leaf_nodes': None, 'random_state': 33, 'splitter': 'best'}\n",
      "0.770 (+/-0.089) for {'class_weight': None, 'criterion': 'gini', 'max_depth': 12, 'max_leaf_nodes': None, 'random_state': 33, 'splitter': 'random'}\n",
      "0.802 (+/-0.085) for {'class_weight': None, 'criterion': 'gini', 'max_depth': 12, 'max_leaf_nodes': 10, 'random_state': 33, 'splitter': 'best'}\n",
      "0.822 (+/-0.094) for {'class_weight': None, 'criterion': 'gini', 'max_depth': 12, 'max_leaf_nodes': 10, 'random_state': 33, 'splitter': 'random'}\n",
      "0.807 (+/-0.093) for {'class_weight': None, 'criterion': 'gini', 'max_depth': 12, 'max_leaf_nodes': 16, 'random_state': 33, 'splitter': 'best'}\n",
      "0.809 (+/-0.111) for {'class_weight': None, 'criterion': 'gini', 'max_depth': 12, 'max_leaf_nodes': 16, 'random_state': 33, 'splitter': 'random'}\n",
      "0.808 (+/-0.105) for {'class_weight': None, 'criterion': 'gini', 'max_depth': 12, 'max_leaf_nodes': 20, 'random_state': 33, 'splitter': 'best'}\n",
      "0.811 (+/-0.111) for {'class_weight': None, 'criterion': 'gini', 'max_depth': 12, 'max_leaf_nodes': 20, 'random_state': 33, 'splitter': 'random'}\n",
      "0.771 (+/-0.116) for {'class_weight': None, 'criterion': 'gini', 'max_depth': 13, 'max_leaf_nodes': None, 'random_state': 33, 'splitter': 'best'}\n",
      "0.770 (+/-0.071) for {'class_weight': None, 'criterion': 'gini', 'max_depth': 13, 'max_leaf_nodes': None, 'random_state': 33, 'splitter': 'random'}\n",
      "0.802 (+/-0.085) for {'class_weight': None, 'criterion': 'gini', 'max_depth': 13, 'max_leaf_nodes': 10, 'random_state': 33, 'splitter': 'best'}\n",
      "0.822 (+/-0.094) for {'class_weight': None, 'criterion': 'gini', 'max_depth': 13, 'max_leaf_nodes': 10, 'random_state': 33, 'splitter': 'random'}\n",
      "0.807 (+/-0.093) for {'class_weight': None, 'criterion': 'gini', 'max_depth': 13, 'max_leaf_nodes': 16, 'random_state': 33, 'splitter': 'best'}\n",
      "0.809 (+/-0.111) for {'class_weight': None, 'criterion': 'gini', 'max_depth': 13, 'max_leaf_nodes': 16, 'random_state': 33, 'splitter': 'random'}\n",
      "0.808 (+/-0.105) for {'class_weight': None, 'criterion': 'gini', 'max_depth': 13, 'max_leaf_nodes': 20, 'random_state': 33, 'splitter': 'best'}\n",
      "0.811 (+/-0.111) for {'class_weight': None, 'criterion': 'gini', 'max_depth': 13, 'max_leaf_nodes': 20, 'random_state': 33, 'splitter': 'random'}\n",
      "0.762 (+/-0.098) for {'class_weight': None, 'criterion': 'gini', 'max_depth': 14, 'max_leaf_nodes': None, 'random_state': 33, 'splitter': 'best'}\n",
      "0.772 (+/-0.119) for {'class_weight': None, 'criterion': 'gini', 'max_depth': 14, 'max_leaf_nodes': None, 'random_state': 33, 'splitter': 'random'}\n",
      "0.802 (+/-0.085) for {'class_weight': None, 'criterion': 'gini', 'max_depth': 14, 'max_leaf_nodes': 10, 'random_state': 33, 'splitter': 'best'}\n",
      "0.822 (+/-0.094) for {'class_weight': None, 'criterion': 'gini', 'max_depth': 14, 'max_leaf_nodes': 10, 'random_state': 33, 'splitter': 'random'}\n",
      "0.807 (+/-0.093) for {'class_weight': None, 'criterion': 'gini', 'max_depth': 14, 'max_leaf_nodes': 16, 'random_state': 33, 'splitter': 'best'}\n",
      "0.809 (+/-0.111) for {'class_weight': None, 'criterion': 'gini', 'max_depth': 14, 'max_leaf_nodes': 16, 'random_state': 33, 'splitter': 'random'}\n",
      "0.808 (+/-0.105) for {'class_weight': None, 'criterion': 'gini', 'max_depth': 14, 'max_leaf_nodes': 20, 'random_state': 33, 'splitter': 'best'}\n",
      "0.811 (+/-0.111) for {'class_weight': None, 'criterion': 'gini', 'max_depth': 14, 'max_leaf_nodes': 20, 'random_state': 33, 'splitter': 'random'}\n",
      "0.808 (+/-0.084) for {'class_weight': None, 'criterion': 'entropy', 'max_depth': 3, 'max_leaf_nodes': None, 'random_state': 33, 'splitter': 'best'}\n",
      "0.806 (+/-0.109) for {'class_weight': None, 'criterion': 'entropy', 'max_depth': 3, 'max_leaf_nodes': None, 'random_state': 33, 'splitter': 'random'}\n",
      "0.805 (+/-0.086) for {'class_weight': None, 'criterion': 'entropy', 'max_depth': 3, 'max_leaf_nodes': 10, 'random_state': 33, 'splitter': 'best'}\n",
      "0.798 (+/-0.093) for {'class_weight': None, 'criterion': 'entropy', 'max_depth': 3, 'max_leaf_nodes': 10, 'random_state': 33, 'splitter': 'random'}\n",
      "0.805 (+/-0.087) for {'class_weight': None, 'criterion': 'entropy', 'max_depth': 3, 'max_leaf_nodes': 16, 'random_state': 33, 'splitter': 'best'}\n",
      "0.795 (+/-0.088) for {'class_weight': None, 'criterion': 'entropy', 'max_depth': 3, 'max_leaf_nodes': 16, 'random_state': 33, 'splitter': 'random'}\n",
      "0.805 (+/-0.087) for {'class_weight': None, 'criterion': 'entropy', 'max_depth': 3, 'max_leaf_nodes': 20, 'random_state': 33, 'splitter': 'best'}\n",
      "0.795 (+/-0.088) for {'class_weight': None, 'criterion': 'entropy', 'max_depth': 3, 'max_leaf_nodes': 20, 'random_state': 33, 'splitter': 'random'}\n",
      "0.805 (+/-0.087) for {'class_weight': None, 'criterion': 'entropy', 'max_depth': 4, 'max_leaf_nodes': None, 'random_state': 33, 'splitter': 'best'}\n",
      "0.828 (+/-0.106) for {'class_weight': None, 'criterion': 'entropy', 'max_depth': 4, 'max_leaf_nodes': None, 'random_state': 33, 'splitter': 'random'}\n",
      "0.803 (+/-0.087) for {'class_weight': None, 'criterion': 'entropy', 'max_depth': 4, 'max_leaf_nodes': 10, 'random_state': 33, 'splitter': 'best'}\n",
      "0.802 (+/-0.110) for {'class_weight': None, 'criterion': 'entropy', 'max_depth': 4, 'max_leaf_nodes': 10, 'random_state': 33, 'splitter': 'random'}\n",
      "0.803 (+/-0.110) for {'class_weight': None, 'criterion': 'entropy', 'max_depth': 4, 'max_leaf_nodes': 16, 'random_state': 33, 'splitter': 'best'}\n",
      "0.791 (+/-0.116) for {'class_weight': None, 'criterion': 'entropy', 'max_depth': 4, 'max_leaf_nodes': 16, 'random_state': 33, 'splitter': 'random'}\n",
      "0.798 (+/-0.111) for {'class_weight': None, 'criterion': 'entropy', 'max_depth': 4, 'max_leaf_nodes': 20, 'random_state': 33, 'splitter': 'best'}\n",
      "0.792 (+/-0.125) for {'class_weight': None, 'criterion': 'entropy', 'max_depth': 4, 'max_leaf_nodes': 20, 'random_state': 33, 'splitter': 'random'}\n",
      "0.795 (+/-0.118) for {'class_weight': None, 'criterion': 'entropy', 'max_depth': 5, 'max_leaf_nodes': None, 'random_state': 33, 'splitter': 'best'}\n",
      "0.815 (+/-0.118) for {'class_weight': None, 'criterion': 'entropy', 'max_depth': 5, 'max_leaf_nodes': None, 'random_state': 33, 'splitter': 'random'}\n",
      "0.795 (+/-0.076) for {'class_weight': None, 'criterion': 'entropy', 'max_depth': 5, 'max_leaf_nodes': 10, 'random_state': 33, 'splitter': 'best'}\n",
      "0.800 (+/-0.120) for {'class_weight': None, 'criterion': 'entropy', 'max_depth': 5, 'max_leaf_nodes': 10, 'random_state': 33, 'splitter': 'random'}\n",
      "0.798 (+/-0.099) for {'class_weight': None, 'criterion': 'entropy', 'max_depth': 5, 'max_leaf_nodes': 16, 'random_state': 33, 'splitter': 'best'}\n",
      "0.800 (+/-0.101) for {'class_weight': None, 'criterion': 'entropy', 'max_depth': 5, 'max_leaf_nodes': 16, 'random_state': 33, 'splitter': 'random'}\n",
      "0.795 (+/-0.090) for {'class_weight': None, 'criterion': 'entropy', 'max_depth': 5, 'max_leaf_nodes': 20, 'random_state': 33, 'splitter': 'best'}\n",
      "0.808 (+/-0.086) for {'class_weight': None, 'criterion': 'entropy', 'max_depth': 5, 'max_leaf_nodes': 20, 'random_state': 33, 'splitter': 'random'}\n",
      "0.787 (+/-0.095) for {'class_weight': None, 'criterion': 'entropy', 'max_depth': 6, 'max_leaf_nodes': None, 'random_state': 33, 'splitter': 'best'}\n",
      "0.809 (+/-0.115) for {'class_weight': None, 'criterion': 'entropy', 'max_depth': 6, 'max_leaf_nodes': None, 'random_state': 33, 'splitter': 'random'}\n",
      "0.795 (+/-0.076) for {'class_weight': None, 'criterion': 'entropy', 'max_depth': 6, 'max_leaf_nodes': 10, 'random_state': 33, 'splitter': 'best'}\n",
      "0.800 (+/-0.120) for {'class_weight': None, 'criterion': 'entropy', 'max_depth': 6, 'max_leaf_nodes': 10, 'random_state': 33, 'splitter': 'random'}\n",
      "0.801 (+/-0.088) for {'class_weight': None, 'criterion': 'entropy', 'max_depth': 6, 'max_leaf_nodes': 16, 'random_state': 33, 'splitter': 'best'}\n",
      "0.809 (+/-0.111) for {'class_weight': None, 'criterion': 'entropy', 'max_depth': 6, 'max_leaf_nodes': 16, 'random_state': 33, 'splitter': 'random'}\n",
      "0.809 (+/-0.105) for {'class_weight': None, 'criterion': 'entropy', 'max_depth': 6, 'max_leaf_nodes': 20, 'random_state': 33, 'splitter': 'best'}\n",
      "0.803 (+/-0.111) for {'class_weight': None, 'criterion': 'entropy', 'max_depth': 6, 'max_leaf_nodes': 20, 'random_state': 33, 'splitter': 'random'}\n",
      "0.796 (+/-0.104) for {'class_weight': None, 'criterion': 'entropy', 'max_depth': 7, 'max_leaf_nodes': None, 'random_state': 33, 'splitter': 'best'}\n",
      "0.806 (+/-0.111) for {'class_weight': None, 'criterion': 'entropy', 'max_depth': 7, 'max_leaf_nodes': None, 'random_state': 33, 'splitter': 'random'}\n",
      "0.795 (+/-0.076) for {'class_weight': None, 'criterion': 'entropy', 'max_depth': 7, 'max_leaf_nodes': 10, 'random_state': 33, 'splitter': 'best'}\n",
      "0.800 (+/-0.120) for {'class_weight': None, 'criterion': 'entropy', 'max_depth': 7, 'max_leaf_nodes': 10, 'random_state': 33, 'splitter': 'random'}\n",
      "0.793 (+/-0.082) for {'class_weight': None, 'criterion': 'entropy', 'max_depth': 7, 'max_leaf_nodes': 16, 'random_state': 33, 'splitter': 'best'}\n",
      "0.807 (+/-0.110) for {'class_weight': None, 'criterion': 'entropy', 'max_depth': 7, 'max_leaf_nodes': 16, 'random_state': 33, 'splitter': 'random'}\n",
      "0.796 (+/-0.093) for {'class_weight': None, 'criterion': 'entropy', 'max_depth': 7, 'max_leaf_nodes': 20, 'random_state': 33, 'splitter': 'best'}\n",
      "0.809 (+/-0.105) for {'class_weight': None, 'criterion': 'entropy', 'max_depth': 7, 'max_leaf_nodes': 20, 'random_state': 33, 'splitter': 'random'}\n",
      "0.783 (+/-0.070) for {'class_weight': None, 'criterion': 'entropy', 'max_depth': 8, 'max_leaf_nodes': None, 'random_state': 33, 'splitter': 'best'}\n",
      "0.794 (+/-0.087) for {'class_weight': None, 'criterion': 'entropy', 'max_depth': 8, 'max_leaf_nodes': None, 'random_state': 33, 'splitter': 'random'}\n",
      "0.795 (+/-0.076) for {'class_weight': None, 'criterion': 'entropy', 'max_depth': 8, 'max_leaf_nodes': 10, 'random_state': 33, 'splitter': 'best'}\n",
      "0.800 (+/-0.120) for {'class_weight': None, 'criterion': 'entropy', 'max_depth': 8, 'max_leaf_nodes': 10, 'random_state': 33, 'splitter': 'random'}\n",
      "0.789 (+/-0.073) for {'class_weight': None, 'criterion': 'entropy', 'max_depth': 8, 'max_leaf_nodes': 16, 'random_state': 33, 'splitter': 'best'}\n",
      "0.807 (+/-0.110) for {'class_weight': None, 'criterion': 'entropy', 'max_depth': 8, 'max_leaf_nodes': 16, 'random_state': 33, 'splitter': 'random'}\n",
      "0.794 (+/-0.097) for {'class_weight': None, 'criterion': 'entropy', 'max_depth': 8, 'max_leaf_nodes': 20, 'random_state': 33, 'splitter': 'best'}\n",
      "0.807 (+/-0.110) for {'class_weight': None, 'criterion': 'entropy', 'max_depth': 8, 'max_leaf_nodes': 20, 'random_state': 33, 'splitter': 'random'}\n",
      "0.777 (+/-0.076) for {'class_weight': None, 'criterion': 'entropy', 'max_depth': 9, 'max_leaf_nodes': None, 'random_state': 33, 'splitter': 'best'}\n",
      "0.781 (+/-0.138) for {'class_weight': None, 'criterion': 'entropy', 'max_depth': 9, 'max_leaf_nodes': None, 'random_state': 33, 'splitter': 'random'}\n",
      "0.795 (+/-0.076) for {'class_weight': None, 'criterion': 'entropy', 'max_depth': 9, 'max_leaf_nodes': 10, 'random_state': 33, 'splitter': 'best'}\n",
      "0.800 (+/-0.120) for {'class_weight': None, 'criterion': 'entropy', 'max_depth': 9, 'max_leaf_nodes': 10, 'random_state': 33, 'splitter': 'random'}\n",
      "0.791 (+/-0.074) for {'class_weight': None, 'criterion': 'entropy', 'max_depth': 9, 'max_leaf_nodes': 16, 'random_state': 33, 'splitter': 'best'}\n",
      "0.807 (+/-0.110) for {'class_weight': None, 'criterion': 'entropy', 'max_depth': 9, 'max_leaf_nodes': 16, 'random_state': 33, 'splitter': 'random'}\n",
      "0.799 (+/-0.099) for {'class_weight': None, 'criterion': 'entropy', 'max_depth': 9, 'max_leaf_nodes': 20, 'random_state': 33, 'splitter': 'best'}\n",
      "0.806 (+/-0.106) for {'class_weight': None, 'criterion': 'entropy', 'max_depth': 9, 'max_leaf_nodes': 20, 'random_state': 33, 'splitter': 'random'}\n",
      "0.769 (+/-0.074) for {'class_weight': None, 'criterion': 'entropy', 'max_depth': 10, 'max_leaf_nodes': None, 'random_state': 33, 'splitter': 'best'}\n",
      "0.792 (+/-0.070) for {'class_weight': None, 'criterion': 'entropy', 'max_depth': 10, 'max_leaf_nodes': None, 'random_state': 33, 'splitter': 'random'}\n",
      "0.795 (+/-0.076) for {'class_weight': None, 'criterion': 'entropy', 'max_depth': 10, 'max_leaf_nodes': 10, 'random_state': 33, 'splitter': 'best'}\n",
      "0.800 (+/-0.120) for {'class_weight': None, 'criterion': 'entropy', 'max_depth': 10, 'max_leaf_nodes': 10, 'random_state': 33, 'splitter': 'random'}\n",
      "0.791 (+/-0.074) for {'class_weight': None, 'criterion': 'entropy', 'max_depth': 10, 'max_leaf_nodes': 16, 'random_state': 33, 'splitter': 'best'}\n",
      "0.807 (+/-0.110) for {'class_weight': None, 'criterion': 'entropy', 'max_depth': 10, 'max_leaf_nodes': 16, 'random_state': 33, 'splitter': 'random'}\n",
      "0.799 (+/-0.099) for {'class_weight': None, 'criterion': 'entropy', 'max_depth': 10, 'max_leaf_nodes': 20, 'random_state': 33, 'splitter': 'best'}\n",
      "0.806 (+/-0.106) for {'class_weight': None, 'criterion': 'entropy', 'max_depth': 10, 'max_leaf_nodes': 20, 'random_state': 33, 'splitter': 'random'}\n",
      "0.774 (+/-0.104) for {'class_weight': None, 'criterion': 'entropy', 'max_depth': 11, 'max_leaf_nodes': None, 'random_state': 33, 'splitter': 'best'}\n",
      "0.780 (+/-0.102) for {'class_weight': None, 'criterion': 'entropy', 'max_depth': 11, 'max_leaf_nodes': None, 'random_state': 33, 'splitter': 'random'}\n",
      "0.795 (+/-0.076) for {'class_weight': None, 'criterion': 'entropy', 'max_depth': 11, 'max_leaf_nodes': 10, 'random_state': 33, 'splitter': 'best'}\n",
      "0.800 (+/-0.120) for {'class_weight': None, 'criterion': 'entropy', 'max_depth': 11, 'max_leaf_nodes': 10, 'random_state': 33, 'splitter': 'random'}\n",
      "0.791 (+/-0.074) for {'class_weight': None, 'criterion': 'entropy', 'max_depth': 11, 'max_leaf_nodes': 16, 'random_state': 33, 'splitter': 'best'}\n",
      "0.807 (+/-0.110) for {'class_weight': None, 'criterion': 'entropy', 'max_depth': 11, 'max_leaf_nodes': 16, 'random_state': 33, 'splitter': 'random'}\n",
      "0.799 (+/-0.099) for {'class_weight': None, 'criterion': 'entropy', 'max_depth': 11, 'max_leaf_nodes': 20, 'random_state': 33, 'splitter': 'best'}\n",
      "0.806 (+/-0.106) for {'class_weight': None, 'criterion': 'entropy', 'max_depth': 11, 'max_leaf_nodes': 20, 'random_state': 33, 'splitter': 'random'}\n",
      "0.766 (+/-0.078) for {'class_weight': None, 'criterion': 'entropy', 'max_depth': 12, 'max_leaf_nodes': None, 'random_state': 33, 'splitter': 'best'}\n",
      "0.763 (+/-0.107) for {'class_weight': None, 'criterion': 'entropy', 'max_depth': 12, 'max_leaf_nodes': None, 'random_state': 33, 'splitter': 'random'}\n",
      "0.795 (+/-0.076) for {'class_weight': None, 'criterion': 'entropy', 'max_depth': 12, 'max_leaf_nodes': 10, 'random_state': 33, 'splitter': 'best'}\n",
      "0.800 (+/-0.120) for {'class_weight': None, 'criterion': 'entropy', 'max_depth': 12, 'max_leaf_nodes': 10, 'random_state': 33, 'splitter': 'random'}\n",
      "0.791 (+/-0.074) for {'class_weight': None, 'criterion': 'entropy', 'max_depth': 12, 'max_leaf_nodes': 16, 'random_state': 33, 'splitter': 'best'}\n",
      "0.807 (+/-0.110) for {'class_weight': None, 'criterion': 'entropy', 'max_depth': 12, 'max_leaf_nodes': 16, 'random_state': 33, 'splitter': 'random'}\n",
      "0.799 (+/-0.099) for {'class_weight': None, 'criterion': 'entropy', 'max_depth': 12, 'max_leaf_nodes': 20, 'random_state': 33, 'splitter': 'best'}\n",
      "0.806 (+/-0.106) for {'class_weight': None, 'criterion': 'entropy', 'max_depth': 12, 'max_leaf_nodes': 20, 'random_state': 33, 'splitter': 'random'}\n",
      "0.763 (+/-0.068) for {'class_weight': None, 'criterion': 'entropy', 'max_depth': 13, 'max_leaf_nodes': None, 'random_state': 33, 'splitter': 'best'}\n",
      "0.767 (+/-0.104) for {'class_weight': None, 'criterion': 'entropy', 'max_depth': 13, 'max_leaf_nodes': None, 'random_state': 33, 'splitter': 'random'}\n",
      "0.795 (+/-0.076) for {'class_weight': None, 'criterion': 'entropy', 'max_depth': 13, 'max_leaf_nodes': 10, 'random_state': 33, 'splitter': 'best'}\n",
      "0.800 (+/-0.120) for {'class_weight': None, 'criterion': 'entropy', 'max_depth': 13, 'max_leaf_nodes': 10, 'random_state': 33, 'splitter': 'random'}\n",
      "0.791 (+/-0.074) for {'class_weight': None, 'criterion': 'entropy', 'max_depth': 13, 'max_leaf_nodes': 16, 'random_state': 33, 'splitter': 'best'}\n",
      "0.807 (+/-0.110) for {'class_weight': None, 'criterion': 'entropy', 'max_depth': 13, 'max_leaf_nodes': 16, 'random_state': 33, 'splitter': 'random'}\n",
      "0.799 (+/-0.099) for {'class_weight': None, 'criterion': 'entropy', 'max_depth': 13, 'max_leaf_nodes': 20, 'random_state': 33, 'splitter': 'best'}\n",
      "0.806 (+/-0.106) for {'class_weight': None, 'criterion': 'entropy', 'max_depth': 13, 'max_leaf_nodes': 20, 'random_state': 33, 'splitter': 'random'}\n",
      "0.759 (+/-0.082) for {'class_weight': None, 'criterion': 'entropy', 'max_depth': 14, 'max_leaf_nodes': None, 'random_state': 33, 'splitter': 'best'}\n",
      "0.789 (+/-0.111) for {'class_weight': None, 'criterion': 'entropy', 'max_depth': 14, 'max_leaf_nodes': None, 'random_state': 33, 'splitter': 'random'}\n",
      "0.795 (+/-0.076) for {'class_weight': None, 'criterion': 'entropy', 'max_depth': 14, 'max_leaf_nodes': 10, 'random_state': 33, 'splitter': 'best'}\n",
      "0.800 (+/-0.120) for {'class_weight': None, 'criterion': 'entropy', 'max_depth': 14, 'max_leaf_nodes': 10, 'random_state': 33, 'splitter': 'random'}\n",
      "0.791 (+/-0.074) for {'class_weight': None, 'criterion': 'entropy', 'max_depth': 14, 'max_leaf_nodes': 16, 'random_state': 33, 'splitter': 'best'}\n",
      "0.807 (+/-0.110) for {'class_weight': None, 'criterion': 'entropy', 'max_depth': 14, 'max_leaf_nodes': 16, 'random_state': 33, 'splitter': 'random'}\n",
      "0.799 (+/-0.099) for {'class_weight': None, 'criterion': 'entropy', 'max_depth': 14, 'max_leaf_nodes': 20, 'random_state': 33, 'splitter': 'best'}\n",
      "0.806 (+/-0.106) for {'class_weight': None, 'criterion': 'entropy', 'max_depth': 14, 'max_leaf_nodes': 20, 'random_state': 33, 'splitter': 'random'}\n",
      "\n",
      "Detailed classification report:\n",
      "\n",
      "The model is trained on the full development set.\n",
      "The scores are computed on the full evaluation set.\n",
      "\n",
      "             precision    recall  f1-score   support\n",
      "\n",
      "          0       0.82      0.96      0.88       134\n",
      "          1       0.91      0.69      0.78        89\n",
      "\n",
      "avg / total       0.86      0.85      0.84       223\n",
      "\n",
      "\n",
      "# Tuning hyper-parameters for recall\n",
      "\n"
     ]
    },
    {
     "name": "stderr",
     "output_type": "stream",
     "text": [
      "/opt/Conda.io/lib/python3.6/site-packages/sklearn/model_selection/_search.py:667: DeprecationWarning: The grid_scores_ attribute was deprecated in version 0.18 in favor of the more elaborate cv_results_ attribute. The grid_scores_ attribute will not be available from 0.20\n",
      "  DeprecationWarning)\n"
     ]
    },
    {
     "name": "stdout",
     "output_type": "stream",
     "text": [
      "Best parameters set found on development set:\n",
      "\n",
      "{'class_weight': None, 'criterion': 'gini', 'max_depth': 4, 'max_leaf_nodes': None, 'random_state': 33, 'splitter': 'random'}\n",
      "\n",
      "Grid scores on development set:\n",
      "\n",
      "0.775 (+/-0.095) for {'class_weight': 'balanced', 'criterion': 'gini', 'max_depth': 3, 'max_leaf_nodes': None, 'random_state': 33, 'splitter': 'best'}\n",
      "0.793 (+/-0.105) for {'class_weight': 'balanced', 'criterion': 'gini', 'max_depth': 3, 'max_leaf_nodes': None, 'random_state': 33, 'splitter': 'random'}\n",
      "0.781 (+/-0.078) for {'class_weight': 'balanced', 'criterion': 'gini', 'max_depth': 3, 'max_leaf_nodes': 10, 'random_state': 33, 'splitter': 'best'}\n",
      "0.751 (+/-0.117) for {'class_weight': 'balanced', 'criterion': 'gini', 'max_depth': 3, 'max_leaf_nodes': 10, 'random_state': 33, 'splitter': 'random'}\n",
      "0.780 (+/-0.078) for {'class_weight': 'balanced', 'criterion': 'gini', 'max_depth': 3, 'max_leaf_nodes': 16, 'random_state': 33, 'splitter': 'best'}\n",
      "0.753 (+/-0.120) for {'class_weight': 'balanced', 'criterion': 'gini', 'max_depth': 3, 'max_leaf_nodes': 16, 'random_state': 33, 'splitter': 'random'}\n",
      "0.780 (+/-0.078) for {'class_weight': 'balanced', 'criterion': 'gini', 'max_depth': 3, 'max_leaf_nodes': 20, 'random_state': 33, 'splitter': 'best'}\n",
      "0.753 (+/-0.120) for {'class_weight': 'balanced', 'criterion': 'gini', 'max_depth': 3, 'max_leaf_nodes': 20, 'random_state': 33, 'splitter': 'random'}\n",
      "0.780 (+/-0.078) for {'class_weight': 'balanced', 'criterion': 'gini', 'max_depth': 4, 'max_leaf_nodes': None, 'random_state': 33, 'splitter': 'best'}\n",
      "0.786 (+/-0.119) for {'class_weight': 'balanced', 'criterion': 'gini', 'max_depth': 4, 'max_leaf_nodes': None, 'random_state': 33, 'splitter': 'random'}\n",
      "0.780 (+/-0.090) for {'class_weight': 'balanced', 'criterion': 'gini', 'max_depth': 4, 'max_leaf_nodes': 10, 'random_state': 33, 'splitter': 'best'}\n",
      "0.749 (+/-0.122) for {'class_weight': 'balanced', 'criterion': 'gini', 'max_depth': 4, 'max_leaf_nodes': 10, 'random_state': 33, 'splitter': 'random'}\n",
      "0.774 (+/-0.114) for {'class_weight': 'balanced', 'criterion': 'gini', 'max_depth': 4, 'max_leaf_nodes': 16, 'random_state': 33, 'splitter': 'best'}\n",
      "0.760 (+/-0.116) for {'class_weight': 'balanced', 'criterion': 'gini', 'max_depth': 4, 'max_leaf_nodes': 16, 'random_state': 33, 'splitter': 'random'}\n",
      "0.774 (+/-0.125) for {'class_weight': 'balanced', 'criterion': 'gini', 'max_depth': 4, 'max_leaf_nodes': 20, 'random_state': 33, 'splitter': 'best'}\n",
      "0.768 (+/-0.118) for {'class_weight': 'balanced', 'criterion': 'gini', 'max_depth': 4, 'max_leaf_nodes': 20, 'random_state': 33, 'splitter': 'random'}\n",
      "0.769 (+/-0.124) for {'class_weight': 'balanced', 'criterion': 'gini', 'max_depth': 5, 'max_leaf_nodes': None, 'random_state': 33, 'splitter': 'best'}\n",
      "0.787 (+/-0.132) for {'class_weight': 'balanced', 'criterion': 'gini', 'max_depth': 5, 'max_leaf_nodes': None, 'random_state': 33, 'splitter': 'random'}\n",
      "0.783 (+/-0.095) for {'class_weight': 'balanced', 'criterion': 'gini', 'max_depth': 5, 'max_leaf_nodes': 10, 'random_state': 33, 'splitter': 'best'}\n",
      "0.751 (+/-0.122) for {'class_weight': 'balanced', 'criterion': 'gini', 'max_depth': 5, 'max_leaf_nodes': 10, 'random_state': 33, 'splitter': 'random'}\n",
      "0.781 (+/-0.108) for {'class_weight': 'balanced', 'criterion': 'gini', 'max_depth': 5, 'max_leaf_nodes': 16, 'random_state': 33, 'splitter': 'best'}\n",
      "0.760 (+/-0.127) for {'class_weight': 'balanced', 'criterion': 'gini', 'max_depth': 5, 'max_leaf_nodes': 16, 'random_state': 33, 'splitter': 'random'}\n",
      "0.772 (+/-0.137) for {'class_weight': 'balanced', 'criterion': 'gini', 'max_depth': 5, 'max_leaf_nodes': 20, 'random_state': 33, 'splitter': 'best'}\n",
      "0.771 (+/-0.102) for {'class_weight': 'balanced', 'criterion': 'gini', 'max_depth': 5, 'max_leaf_nodes': 20, 'random_state': 33, 'splitter': 'random'}\n",
      "0.769 (+/-0.123) for {'class_weight': 'balanced', 'criterion': 'gini', 'max_depth': 6, 'max_leaf_nodes': None, 'random_state': 33, 'splitter': 'best'}\n",
      "0.766 (+/-0.127) for {'class_weight': 'balanced', 'criterion': 'gini', 'max_depth': 6, 'max_leaf_nodes': None, 'random_state': 33, 'splitter': 'random'}\n",
      "0.783 (+/-0.095) for {'class_weight': 'balanced', 'criterion': 'gini', 'max_depth': 6, 'max_leaf_nodes': 10, 'random_state': 33, 'splitter': 'best'}\n",
      "0.751 (+/-0.122) for {'class_weight': 'balanced', 'criterion': 'gini', 'max_depth': 6, 'max_leaf_nodes': 10, 'random_state': 33, 'splitter': 'random'}\n",
      "0.787 (+/-0.099) for {'class_weight': 'balanced', 'criterion': 'gini', 'max_depth': 6, 'max_leaf_nodes': 16, 'random_state': 33, 'splitter': 'best'}\n",
      "0.753 (+/-0.136) for {'class_weight': 'balanced', 'criterion': 'gini', 'max_depth': 6, 'max_leaf_nodes': 16, 'random_state': 33, 'splitter': 'random'}\n",
      "0.781 (+/-0.105) for {'class_weight': 'balanced', 'criterion': 'gini', 'max_depth': 6, 'max_leaf_nodes': 20, 'random_state': 33, 'splitter': 'best'}\n",
      "0.760 (+/-0.125) for {'class_weight': 'balanced', 'criterion': 'gini', 'max_depth': 6, 'max_leaf_nodes': 20, 'random_state': 33, 'splitter': 'random'}\n",
      "0.765 (+/-0.117) for {'class_weight': 'balanced', 'criterion': 'gini', 'max_depth': 7, 'max_leaf_nodes': None, 'random_state': 33, 'splitter': 'best'}\n",
      "0.771 (+/-0.101) for {'class_weight': 'balanced', 'criterion': 'gini', 'max_depth': 7, 'max_leaf_nodes': None, 'random_state': 33, 'splitter': 'random'}\n",
      "0.783 (+/-0.095) for {'class_weight': 'balanced', 'criterion': 'gini', 'max_depth': 7, 'max_leaf_nodes': 10, 'random_state': 33, 'splitter': 'best'}\n",
      "0.751 (+/-0.122) for {'class_weight': 'balanced', 'criterion': 'gini', 'max_depth': 7, 'max_leaf_nodes': 10, 'random_state': 33, 'splitter': 'random'}\n",
      "0.789 (+/-0.104) for {'class_weight': 'balanced', 'criterion': 'gini', 'max_depth': 7, 'max_leaf_nodes': 16, 'random_state': 33, 'splitter': 'best'}\n",
      "0.753 (+/-0.136) for {'class_weight': 'balanced', 'criterion': 'gini', 'max_depth': 7, 'max_leaf_nodes': 16, 'random_state': 33, 'splitter': 'random'}\n",
      "0.792 (+/-0.115) for {'class_weight': 'balanced', 'criterion': 'gini', 'max_depth': 7, 'max_leaf_nodes': 20, 'random_state': 33, 'splitter': 'best'}\n",
      "0.760 (+/-0.121) for {'class_weight': 'balanced', 'criterion': 'gini', 'max_depth': 7, 'max_leaf_nodes': 20, 'random_state': 33, 'splitter': 'random'}\n",
      "0.766 (+/-0.121) for {'class_weight': 'balanced', 'criterion': 'gini', 'max_depth': 8, 'max_leaf_nodes': None, 'random_state': 33, 'splitter': 'best'}\n",
      "0.774 (+/-0.091) for {'class_weight': 'balanced', 'criterion': 'gini', 'max_depth': 8, 'max_leaf_nodes': None, 'random_state': 33, 'splitter': 'random'}\n",
      "0.783 (+/-0.095) for {'class_weight': 'balanced', 'criterion': 'gini', 'max_depth': 8, 'max_leaf_nodes': 10, 'random_state': 33, 'splitter': 'best'}\n",
      "0.751 (+/-0.122) for {'class_weight': 'balanced', 'criterion': 'gini', 'max_depth': 8, 'max_leaf_nodes': 10, 'random_state': 33, 'splitter': 'random'}\n",
      "0.790 (+/-0.103) for {'class_weight': 'balanced', 'criterion': 'gini', 'max_depth': 8, 'max_leaf_nodes': 16, 'random_state': 33, 'splitter': 'best'}\n",
      "0.753 (+/-0.136) for {'class_weight': 'balanced', 'criterion': 'gini', 'max_depth': 8, 'max_leaf_nodes': 16, 'random_state': 33, 'splitter': 'random'}\n",
      "0.796 (+/-0.111) for {'class_weight': 'balanced', 'criterion': 'gini', 'max_depth': 8, 'max_leaf_nodes': 20, 'random_state': 33, 'splitter': 'best'}\n",
      "0.760 (+/-0.124) for {'class_weight': 'balanced', 'criterion': 'gini', 'max_depth': 8, 'max_leaf_nodes': 20, 'random_state': 33, 'splitter': 'random'}\n",
      "0.762 (+/-0.125) for {'class_weight': 'balanced', 'criterion': 'gini', 'max_depth': 9, 'max_leaf_nodes': None, 'random_state': 33, 'splitter': 'best'}\n",
      "0.778 (+/-0.086) for {'class_weight': 'balanced', 'criterion': 'gini', 'max_depth': 9, 'max_leaf_nodes': None, 'random_state': 33, 'splitter': 'random'}\n",
      "0.783 (+/-0.095) for {'class_weight': 'balanced', 'criterion': 'gini', 'max_depth': 9, 'max_leaf_nodes': 10, 'random_state': 33, 'splitter': 'best'}\n",
      "0.751 (+/-0.122) for {'class_weight': 'balanced', 'criterion': 'gini', 'max_depth': 9, 'max_leaf_nodes': 10, 'random_state': 33, 'splitter': 'random'}\n",
      "0.790 (+/-0.103) for {'class_weight': 'balanced', 'criterion': 'gini', 'max_depth': 9, 'max_leaf_nodes': 16, 'random_state': 33, 'splitter': 'best'}\n",
      "0.753 (+/-0.136) for {'class_weight': 'balanced', 'criterion': 'gini', 'max_depth': 9, 'max_leaf_nodes': 16, 'random_state': 33, 'splitter': 'random'}\n",
      "0.796 (+/-0.114) for {'class_weight': 'balanced', 'criterion': 'gini', 'max_depth': 9, 'max_leaf_nodes': 20, 'random_state': 33, 'splitter': 'best'}\n",
      "0.760 (+/-0.124) for {'class_weight': 'balanced', 'criterion': 'gini', 'max_depth': 9, 'max_leaf_nodes': 20, 'random_state': 33, 'splitter': 'random'}\n",
      "0.754 (+/-0.136) for {'class_weight': 'balanced', 'criterion': 'gini', 'max_depth': 10, 'max_leaf_nodes': None, 'random_state': 33, 'splitter': 'best'}\n",
      "0.766 (+/-0.113) for {'class_weight': 'balanced', 'criterion': 'gini', 'max_depth': 10, 'max_leaf_nodes': None, 'random_state': 33, 'splitter': 'random'}\n",
      "0.783 (+/-0.095) for {'class_weight': 'balanced', 'criterion': 'gini', 'max_depth': 10, 'max_leaf_nodes': 10, 'random_state': 33, 'splitter': 'best'}\n",
      "0.751 (+/-0.122) for {'class_weight': 'balanced', 'criterion': 'gini', 'max_depth': 10, 'max_leaf_nodes': 10, 'random_state': 33, 'splitter': 'random'}\n",
      "0.790 (+/-0.103) for {'class_weight': 'balanced', 'criterion': 'gini', 'max_depth': 10, 'max_leaf_nodes': 16, 'random_state': 33, 'splitter': 'best'}\n",
      "0.753 (+/-0.136) for {'class_weight': 'balanced', 'criterion': 'gini', 'max_depth': 10, 'max_leaf_nodes': 16, 'random_state': 33, 'splitter': 'random'}\n",
      "0.798 (+/-0.114) for {'class_weight': 'balanced', 'criterion': 'gini', 'max_depth': 10, 'max_leaf_nodes': 20, 'random_state': 33, 'splitter': 'best'}\n",
      "0.760 (+/-0.124) for {'class_weight': 'balanced', 'criterion': 'gini', 'max_depth': 10, 'max_leaf_nodes': 20, 'random_state': 33, 'splitter': 'random'}\n",
      "0.757 (+/-0.126) for {'class_weight': 'balanced', 'criterion': 'gini', 'max_depth': 11, 'max_leaf_nodes': None, 'random_state': 33, 'splitter': 'best'}\n",
      "0.778 (+/-0.097) for {'class_weight': 'balanced', 'criterion': 'gini', 'max_depth': 11, 'max_leaf_nodes': None, 'random_state': 33, 'splitter': 'random'}\n",
      "0.783 (+/-0.095) for {'class_weight': 'balanced', 'criterion': 'gini', 'max_depth': 11, 'max_leaf_nodes': 10, 'random_state': 33, 'splitter': 'best'}\n",
      "0.751 (+/-0.122) for {'class_weight': 'balanced', 'criterion': 'gini', 'max_depth': 11, 'max_leaf_nodes': 10, 'random_state': 33, 'splitter': 'random'}\n",
      "0.790 (+/-0.103) for {'class_weight': 'balanced', 'criterion': 'gini', 'max_depth': 11, 'max_leaf_nodes': 16, 'random_state': 33, 'splitter': 'best'}\n",
      "0.753 (+/-0.136) for {'class_weight': 'balanced', 'criterion': 'gini', 'max_depth': 11, 'max_leaf_nodes': 16, 'random_state': 33, 'splitter': 'random'}\n",
      "0.798 (+/-0.114) for {'class_weight': 'balanced', 'criterion': 'gini', 'max_depth': 11, 'max_leaf_nodes': 20, 'random_state': 33, 'splitter': 'best'}\n",
      "0.760 (+/-0.124) for {'class_weight': 'balanced', 'criterion': 'gini', 'max_depth': 11, 'max_leaf_nodes': 20, 'random_state': 33, 'splitter': 'random'}\n",
      "0.771 (+/-0.097) for {'class_weight': 'balanced', 'criterion': 'gini', 'max_depth': 12, 'max_leaf_nodes': None, 'random_state': 33, 'splitter': 'best'}\n",
      "0.751 (+/-0.084) for {'class_weight': 'balanced', 'criterion': 'gini', 'max_depth': 12, 'max_leaf_nodes': None, 'random_state': 33, 'splitter': 'random'}\n",
      "0.783 (+/-0.095) for {'class_weight': 'balanced', 'criterion': 'gini', 'max_depth': 12, 'max_leaf_nodes': 10, 'random_state': 33, 'splitter': 'best'}\n",
      "0.751 (+/-0.122) for {'class_weight': 'balanced', 'criterion': 'gini', 'max_depth': 12, 'max_leaf_nodes': 10, 'random_state': 33, 'splitter': 'random'}\n",
      "0.790 (+/-0.103) for {'class_weight': 'balanced', 'criterion': 'gini', 'max_depth': 12, 'max_leaf_nodes': 16, 'random_state': 33, 'splitter': 'best'}\n",
      "0.753 (+/-0.136) for {'class_weight': 'balanced', 'criterion': 'gini', 'max_depth': 12, 'max_leaf_nodes': 16, 'random_state': 33, 'splitter': 'random'}\n",
      "0.798 (+/-0.114) for {'class_weight': 'balanced', 'criterion': 'gini', 'max_depth': 12, 'max_leaf_nodes': 20, 'random_state': 33, 'splitter': 'best'}\n",
      "0.760 (+/-0.124) for {'class_weight': 'balanced', 'criterion': 'gini', 'max_depth': 12, 'max_leaf_nodes': 20, 'random_state': 33, 'splitter': 'random'}\n",
      "0.759 (+/-0.117) for {'class_weight': 'balanced', 'criterion': 'gini', 'max_depth': 13, 'max_leaf_nodes': None, 'random_state': 33, 'splitter': 'best'}\n",
      "0.769 (+/-0.101) for {'class_weight': 'balanced', 'criterion': 'gini', 'max_depth': 13, 'max_leaf_nodes': None, 'random_state': 33, 'splitter': 'random'}\n",
      "0.783 (+/-0.095) for {'class_weight': 'balanced', 'criterion': 'gini', 'max_depth': 13, 'max_leaf_nodes': 10, 'random_state': 33, 'splitter': 'best'}\n",
      "0.751 (+/-0.122) for {'class_weight': 'balanced', 'criterion': 'gini', 'max_depth': 13, 'max_leaf_nodes': 10, 'random_state': 33, 'splitter': 'random'}\n",
      "0.790 (+/-0.103) for {'class_weight': 'balanced', 'criterion': 'gini', 'max_depth': 13, 'max_leaf_nodes': 16, 'random_state': 33, 'splitter': 'best'}\n",
      "0.753 (+/-0.136) for {'class_weight': 'balanced', 'criterion': 'gini', 'max_depth': 13, 'max_leaf_nodes': 16, 'random_state': 33, 'splitter': 'random'}\n",
      "0.798 (+/-0.114) for {'class_weight': 'balanced', 'criterion': 'gini', 'max_depth': 13, 'max_leaf_nodes': 20, 'random_state': 33, 'splitter': 'best'}\n",
      "0.760 (+/-0.124) for {'class_weight': 'balanced', 'criterion': 'gini', 'max_depth': 13, 'max_leaf_nodes': 20, 'random_state': 33, 'splitter': 'random'}\n",
      "0.759 (+/-0.097) for {'class_weight': 'balanced', 'criterion': 'gini', 'max_depth': 14, 'max_leaf_nodes': None, 'random_state': 33, 'splitter': 'best'}\n",
      "0.765 (+/-0.079) for {'class_weight': 'balanced', 'criterion': 'gini', 'max_depth': 14, 'max_leaf_nodes': None, 'random_state': 33, 'splitter': 'random'}\n",
      "0.783 (+/-0.095) for {'class_weight': 'balanced', 'criterion': 'gini', 'max_depth': 14, 'max_leaf_nodes': 10, 'random_state': 33, 'splitter': 'best'}\n",
      "0.751 (+/-0.122) for {'class_weight': 'balanced', 'criterion': 'gini', 'max_depth': 14, 'max_leaf_nodes': 10, 'random_state': 33, 'splitter': 'random'}\n",
      "0.790 (+/-0.103) for {'class_weight': 'balanced', 'criterion': 'gini', 'max_depth': 14, 'max_leaf_nodes': 16, 'random_state': 33, 'splitter': 'best'}\n",
      "0.753 (+/-0.136) for {'class_weight': 'balanced', 'criterion': 'gini', 'max_depth': 14, 'max_leaf_nodes': 16, 'random_state': 33, 'splitter': 'random'}\n",
      "0.798 (+/-0.114) for {'class_weight': 'balanced', 'criterion': 'gini', 'max_depth': 14, 'max_leaf_nodes': 20, 'random_state': 33, 'splitter': 'best'}\n",
      "0.760 (+/-0.124) for {'class_weight': 'balanced', 'criterion': 'gini', 'max_depth': 14, 'max_leaf_nodes': 20, 'random_state': 33, 'splitter': 'random'}\n",
      "0.790 (+/-0.105) for {'class_weight': 'balanced', 'criterion': 'entropy', 'max_depth': 3, 'max_leaf_nodes': None, 'random_state': 33, 'splitter': 'best'}\n",
      "0.793 (+/-0.105) for {'class_weight': 'balanced', 'criterion': 'entropy', 'max_depth': 3, 'max_leaf_nodes': None, 'random_state': 33, 'splitter': 'random'}\n",
      "0.795 (+/-0.088) for {'class_weight': 'balanced', 'criterion': 'entropy', 'max_depth': 3, 'max_leaf_nodes': 10, 'random_state': 33, 'splitter': 'best'}\n",
      "0.744 (+/-0.111) for {'class_weight': 'balanced', 'criterion': 'entropy', 'max_depth': 3, 'max_leaf_nodes': 10, 'random_state': 33, 'splitter': 'random'}\n",
      "0.772 (+/-0.121) for {'class_weight': 'balanced', 'criterion': 'entropy', 'max_depth': 3, 'max_leaf_nodes': 16, 'random_state': 33, 'splitter': 'best'}\n",
      "0.749 (+/-0.122) for {'class_weight': 'balanced', 'criterion': 'entropy', 'max_depth': 3, 'max_leaf_nodes': 16, 'random_state': 33, 'splitter': 'random'}\n",
      "0.772 (+/-0.121) for {'class_weight': 'balanced', 'criterion': 'entropy', 'max_depth': 3, 'max_leaf_nodes': 20, 'random_state': 33, 'splitter': 'best'}\n",
      "0.749 (+/-0.122) for {'class_weight': 'balanced', 'criterion': 'entropy', 'max_depth': 3, 'max_leaf_nodes': 20, 'random_state': 33, 'splitter': 'random'}\n",
      "0.772 (+/-0.121) for {'class_weight': 'balanced', 'criterion': 'entropy', 'max_depth': 4, 'max_leaf_nodes': None, 'random_state': 33, 'splitter': 'best'}\n",
      "0.787 (+/-0.126) for {'class_weight': 'balanced', 'criterion': 'entropy', 'max_depth': 4, 'max_leaf_nodes': None, 'random_state': 33, 'splitter': 'random'}\n",
      "0.793 (+/-0.099) for {'class_weight': 'balanced', 'criterion': 'entropy', 'max_depth': 4, 'max_leaf_nodes': 10, 'random_state': 33, 'splitter': 'best'}\n",
      "0.751 (+/-0.115) for {'class_weight': 'balanced', 'criterion': 'entropy', 'max_depth': 4, 'max_leaf_nodes': 10, 'random_state': 33, 'splitter': 'random'}\n",
      "0.777 (+/-0.106) for {'class_weight': 'balanced', 'criterion': 'entropy', 'max_depth': 4, 'max_leaf_nodes': 16, 'random_state': 33, 'splitter': 'best'}\n",
      "0.753 (+/-0.097) for {'class_weight': 'balanced', 'criterion': 'entropy', 'max_depth': 4, 'max_leaf_nodes': 16, 'random_state': 33, 'splitter': 'random'}\n",
      "0.777 (+/-0.106) for {'class_weight': 'balanced', 'criterion': 'entropy', 'max_depth': 4, 'max_leaf_nodes': 20, 'random_state': 33, 'splitter': 'best'}\n",
      "0.756 (+/-0.099) for {'class_weight': 'balanced', 'criterion': 'entropy', 'max_depth': 4, 'max_leaf_nodes': 20, 'random_state': 33, 'splitter': 'random'}\n",
      "0.774 (+/-0.108) for {'class_weight': 'balanced', 'criterion': 'entropy', 'max_depth': 5, 'max_leaf_nodes': None, 'random_state': 33, 'splitter': 'best'}\n",
      "0.795 (+/-0.129) for {'class_weight': 'balanced', 'criterion': 'entropy', 'max_depth': 5, 'max_leaf_nodes': None, 'random_state': 33, 'splitter': 'random'}\n",
      "0.787 (+/-0.088) for {'class_weight': 'balanced', 'criterion': 'entropy', 'max_depth': 5, 'max_leaf_nodes': 10, 'random_state': 33, 'splitter': 'best'}\n",
      "0.753 (+/-0.116) for {'class_weight': 'balanced', 'criterion': 'entropy', 'max_depth': 5, 'max_leaf_nodes': 10, 'random_state': 33, 'splitter': 'random'}\n",
      "0.777 (+/-0.099) for {'class_weight': 'balanced', 'criterion': 'entropy', 'max_depth': 5, 'max_leaf_nodes': 16, 'random_state': 33, 'splitter': 'best'}\n",
      "0.747 (+/-0.129) for {'class_weight': 'balanced', 'criterion': 'entropy', 'max_depth': 5, 'max_leaf_nodes': 16, 'random_state': 33, 'splitter': 'random'}\n",
      "0.774 (+/-0.111) for {'class_weight': 'balanced', 'criterion': 'entropy', 'max_depth': 5, 'max_leaf_nodes': 20, 'random_state': 33, 'splitter': 'best'}\n",
      "0.754 (+/-0.131) for {'class_weight': 'balanced', 'criterion': 'entropy', 'max_depth': 5, 'max_leaf_nodes': 20, 'random_state': 33, 'splitter': 'random'}\n",
      "0.771 (+/-0.114) for {'class_weight': 'balanced', 'criterion': 'entropy', 'max_depth': 6, 'max_leaf_nodes': None, 'random_state': 33, 'splitter': 'best'}\n",
      "0.769 (+/-0.118) for {'class_weight': 'balanced', 'criterion': 'entropy', 'max_depth': 6, 'max_leaf_nodes': None, 'random_state': 33, 'splitter': 'random'}\n",
      "0.787 (+/-0.088) for {'class_weight': 'balanced', 'criterion': 'entropy', 'max_depth': 6, 'max_leaf_nodes': 10, 'random_state': 33, 'splitter': 'best'}\n",
      "0.753 (+/-0.116) for {'class_weight': 'balanced', 'criterion': 'entropy', 'max_depth': 6, 'max_leaf_nodes': 10, 'random_state': 33, 'splitter': 'random'}\n",
      "0.783 (+/-0.103) for {'class_weight': 'balanced', 'criterion': 'entropy', 'max_depth': 6, 'max_leaf_nodes': 16, 'random_state': 33, 'splitter': 'best'}\n",
      "0.750 (+/-0.107) for {'class_weight': 'balanced', 'criterion': 'entropy', 'max_depth': 6, 'max_leaf_nodes': 16, 'random_state': 33, 'splitter': 'random'}\n",
      "0.781 (+/-0.102) for {'class_weight': 'balanced', 'criterion': 'entropy', 'max_depth': 6, 'max_leaf_nodes': 20, 'random_state': 33, 'splitter': 'best'}\n",
      "0.762 (+/-0.106) for {'class_weight': 'balanced', 'criterion': 'entropy', 'max_depth': 6, 'max_leaf_nodes': 20, 'random_state': 33, 'splitter': 'random'}\n",
      "0.760 (+/-0.121) for {'class_weight': 'balanced', 'criterion': 'entropy', 'max_depth': 7, 'max_leaf_nodes': None, 'random_state': 33, 'splitter': 'best'}\n",
      "0.778 (+/-0.103) for {'class_weight': 'balanced', 'criterion': 'entropy', 'max_depth': 7, 'max_leaf_nodes': None, 'random_state': 33, 'splitter': 'random'}\n",
      "0.787 (+/-0.088) for {'class_weight': 'balanced', 'criterion': 'entropy', 'max_depth': 7, 'max_leaf_nodes': 10, 'random_state': 33, 'splitter': 'best'}\n",
      "0.753 (+/-0.116) for {'class_weight': 'balanced', 'criterion': 'entropy', 'max_depth': 7, 'max_leaf_nodes': 10, 'random_state': 33, 'splitter': 'random'}\n",
      "0.784 (+/-0.114) for {'class_weight': 'balanced', 'criterion': 'entropy', 'max_depth': 7, 'max_leaf_nodes': 16, 'random_state': 33, 'splitter': 'best'}\n",
      "0.753 (+/-0.119) for {'class_weight': 'balanced', 'criterion': 'entropy', 'max_depth': 7, 'max_leaf_nodes': 16, 'random_state': 33, 'splitter': 'random'}\n",
      "0.778 (+/-0.101) for {'class_weight': 'balanced', 'criterion': 'entropy', 'max_depth': 7, 'max_leaf_nodes': 20, 'random_state': 33, 'splitter': 'best'}\n",
      "0.750 (+/-0.117) for {'class_weight': 'balanced', 'criterion': 'entropy', 'max_depth': 7, 'max_leaf_nodes': 20, 'random_state': 33, 'splitter': 'random'}\n",
      "0.751 (+/-0.126) for {'class_weight': 'balanced', 'criterion': 'entropy', 'max_depth': 8, 'max_leaf_nodes': None, 'random_state': 33, 'splitter': 'best'}\n",
      "0.760 (+/-0.104) for {'class_weight': 'balanced', 'criterion': 'entropy', 'max_depth': 8, 'max_leaf_nodes': None, 'random_state': 33, 'splitter': 'random'}\n",
      "0.787 (+/-0.088) for {'class_weight': 'balanced', 'criterion': 'entropy', 'max_depth': 8, 'max_leaf_nodes': 10, 'random_state': 33, 'splitter': 'best'}\n",
      "0.753 (+/-0.116) for {'class_weight': 'balanced', 'criterion': 'entropy', 'max_depth': 8, 'max_leaf_nodes': 10, 'random_state': 33, 'splitter': 'random'}\n",
      "0.778 (+/-0.116) for {'class_weight': 'balanced', 'criterion': 'entropy', 'max_depth': 8, 'max_leaf_nodes': 16, 'random_state': 33, 'splitter': 'best'}\n",
      "0.753 (+/-0.119) for {'class_weight': 'balanced', 'criterion': 'entropy', 'max_depth': 8, 'max_leaf_nodes': 16, 'random_state': 33, 'splitter': 'random'}\n",
      "0.778 (+/-0.100) for {'class_weight': 'balanced', 'criterion': 'entropy', 'max_depth': 8, 'max_leaf_nodes': 20, 'random_state': 33, 'splitter': 'best'}\n",
      "0.750 (+/-0.133) for {'class_weight': 'balanced', 'criterion': 'entropy', 'max_depth': 8, 'max_leaf_nodes': 20, 'random_state': 33, 'splitter': 'random'}\n",
      "0.750 (+/-0.086) for {'class_weight': 'balanced', 'criterion': 'entropy', 'max_depth': 9, 'max_leaf_nodes': None, 'random_state': 33, 'splitter': 'best'}\n",
      "0.759 (+/-0.141) for {'class_weight': 'balanced', 'criterion': 'entropy', 'max_depth': 9, 'max_leaf_nodes': None, 'random_state': 33, 'splitter': 'random'}\n",
      "0.787 (+/-0.088) for {'class_weight': 'balanced', 'criterion': 'entropy', 'max_depth': 9, 'max_leaf_nodes': 10, 'random_state': 33, 'splitter': 'best'}\n",
      "0.753 (+/-0.116) for {'class_weight': 'balanced', 'criterion': 'entropy', 'max_depth': 9, 'max_leaf_nodes': 10, 'random_state': 33, 'splitter': 'random'}\n",
      "0.778 (+/-0.116) for {'class_weight': 'balanced', 'criterion': 'entropy', 'max_depth': 9, 'max_leaf_nodes': 16, 'random_state': 33, 'splitter': 'best'}\n",
      "0.756 (+/-0.124) for {'class_weight': 'balanced', 'criterion': 'entropy', 'max_depth': 9, 'max_leaf_nodes': 16, 'random_state': 33, 'splitter': 'random'}\n",
      "0.780 (+/-0.101) for {'class_weight': 'balanced', 'criterion': 'entropy', 'max_depth': 9, 'max_leaf_nodes': 20, 'random_state': 33, 'splitter': 'best'}\n",
      "0.754 (+/-0.139) for {'class_weight': 'balanced', 'criterion': 'entropy', 'max_depth': 9, 'max_leaf_nodes': 20, 'random_state': 33, 'splitter': 'random'}\n",
      "0.753 (+/-0.102) for {'class_weight': 'balanced', 'criterion': 'entropy', 'max_depth': 10, 'max_leaf_nodes': None, 'random_state': 33, 'splitter': 'best'}\n",
      "0.787 (+/-0.135) for {'class_weight': 'balanced', 'criterion': 'entropy', 'max_depth': 10, 'max_leaf_nodes': None, 'random_state': 33, 'splitter': 'random'}\n",
      "0.787 (+/-0.088) for {'class_weight': 'balanced', 'criterion': 'entropy', 'max_depth': 10, 'max_leaf_nodes': 10, 'random_state': 33, 'splitter': 'best'}\n",
      "0.753 (+/-0.116) for {'class_weight': 'balanced', 'criterion': 'entropy', 'max_depth': 10, 'max_leaf_nodes': 10, 'random_state': 33, 'splitter': 'random'}\n",
      "0.778 (+/-0.116) for {'class_weight': 'balanced', 'criterion': 'entropy', 'max_depth': 10, 'max_leaf_nodes': 16, 'random_state': 33, 'splitter': 'best'}\n",
      "0.756 (+/-0.124) for {'class_weight': 'balanced', 'criterion': 'entropy', 'max_depth': 10, 'max_leaf_nodes': 16, 'random_state': 33, 'splitter': 'random'}\n",
      "0.778 (+/-0.102) for {'class_weight': 'balanced', 'criterion': 'entropy', 'max_depth': 10, 'max_leaf_nodes': 20, 'random_state': 33, 'splitter': 'best'}\n",
      "0.754 (+/-0.139) for {'class_weight': 'balanced', 'criterion': 'entropy', 'max_depth': 10, 'max_leaf_nodes': 20, 'random_state': 33, 'splitter': 'random'}\n",
      "0.744 (+/-0.102) for {'class_weight': 'balanced', 'criterion': 'entropy', 'max_depth': 11, 'max_leaf_nodes': None, 'random_state': 33, 'splitter': 'best'}\n",
      "0.792 (+/-0.098) for {'class_weight': 'balanced', 'criterion': 'entropy', 'max_depth': 11, 'max_leaf_nodes': None, 'random_state': 33, 'splitter': 'random'}\n",
      "0.787 (+/-0.088) for {'class_weight': 'balanced', 'criterion': 'entropy', 'max_depth': 11, 'max_leaf_nodes': 10, 'random_state': 33, 'splitter': 'best'}\n",
      "0.753 (+/-0.116) for {'class_weight': 'balanced', 'criterion': 'entropy', 'max_depth': 11, 'max_leaf_nodes': 10, 'random_state': 33, 'splitter': 'random'}\n",
      "0.778 (+/-0.116) for {'class_weight': 'balanced', 'criterion': 'entropy', 'max_depth': 11, 'max_leaf_nodes': 16, 'random_state': 33, 'splitter': 'best'}\n",
      "0.756 (+/-0.124) for {'class_weight': 'balanced', 'criterion': 'entropy', 'max_depth': 11, 'max_leaf_nodes': 16, 'random_state': 33, 'splitter': 'random'}\n",
      "0.778 (+/-0.102) for {'class_weight': 'balanced', 'criterion': 'entropy', 'max_depth': 11, 'max_leaf_nodes': 20, 'random_state': 33, 'splitter': 'best'}\n",
      "0.754 (+/-0.139) for {'class_weight': 'balanced', 'criterion': 'entropy', 'max_depth': 11, 'max_leaf_nodes': 20, 'random_state': 33, 'splitter': 'random'}\n",
      "0.762 (+/-0.107) for {'class_weight': 'balanced', 'criterion': 'entropy', 'max_depth': 12, 'max_leaf_nodes': None, 'random_state': 33, 'splitter': 'best'}\n",
      "0.795 (+/-0.103) for {'class_weight': 'balanced', 'criterion': 'entropy', 'max_depth': 12, 'max_leaf_nodes': None, 'random_state': 33, 'splitter': 'random'}\n",
      "0.787 (+/-0.088) for {'class_weight': 'balanced', 'criterion': 'entropy', 'max_depth': 12, 'max_leaf_nodes': 10, 'random_state': 33, 'splitter': 'best'}\n",
      "0.753 (+/-0.116) for {'class_weight': 'balanced', 'criterion': 'entropy', 'max_depth': 12, 'max_leaf_nodes': 10, 'random_state': 33, 'splitter': 'random'}\n",
      "0.778 (+/-0.116) for {'class_weight': 'balanced', 'criterion': 'entropy', 'max_depth': 12, 'max_leaf_nodes': 16, 'random_state': 33, 'splitter': 'best'}\n",
      "0.756 (+/-0.124) for {'class_weight': 'balanced', 'criterion': 'entropy', 'max_depth': 12, 'max_leaf_nodes': 16, 'random_state': 33, 'splitter': 'random'}\n",
      "0.778 (+/-0.102) for {'class_weight': 'balanced', 'criterion': 'entropy', 'max_depth': 12, 'max_leaf_nodes': 20, 'random_state': 33, 'splitter': 'best'}\n",
      "0.754 (+/-0.139) for {'class_weight': 'balanced', 'criterion': 'entropy', 'max_depth': 12, 'max_leaf_nodes': 20, 'random_state': 33, 'splitter': 'random'}\n",
      "0.759 (+/-0.104) for {'class_weight': 'balanced', 'criterion': 'entropy', 'max_depth': 13, 'max_leaf_nodes': None, 'random_state': 33, 'splitter': 'best'}\n",
      "0.759 (+/-0.118) for {'class_weight': 'balanced', 'criterion': 'entropy', 'max_depth': 13, 'max_leaf_nodes': None, 'random_state': 33, 'splitter': 'random'}\n",
      "0.787 (+/-0.088) for {'class_weight': 'balanced', 'criterion': 'entropy', 'max_depth': 13, 'max_leaf_nodes': 10, 'random_state': 33, 'splitter': 'best'}\n",
      "0.753 (+/-0.116) for {'class_weight': 'balanced', 'criterion': 'entropy', 'max_depth': 13, 'max_leaf_nodes': 10, 'random_state': 33, 'splitter': 'random'}\n",
      "0.778 (+/-0.116) for {'class_weight': 'balanced', 'criterion': 'entropy', 'max_depth': 13, 'max_leaf_nodes': 16, 'random_state': 33, 'splitter': 'best'}\n",
      "0.756 (+/-0.124) for {'class_weight': 'balanced', 'criterion': 'entropy', 'max_depth': 13, 'max_leaf_nodes': 16, 'random_state': 33, 'splitter': 'random'}\n",
      "0.778 (+/-0.102) for {'class_weight': 'balanced', 'criterion': 'entropy', 'max_depth': 13, 'max_leaf_nodes': 20, 'random_state': 33, 'splitter': 'best'}\n",
      "0.754 (+/-0.139) for {'class_weight': 'balanced', 'criterion': 'entropy', 'max_depth': 13, 'max_leaf_nodes': 20, 'random_state': 33, 'splitter': 'random'}\n",
      "0.757 (+/-0.095) for {'class_weight': 'balanced', 'criterion': 'entropy', 'max_depth': 14, 'max_leaf_nodes': None, 'random_state': 33, 'splitter': 'best'}\n",
      "0.781 (+/-0.099) for {'class_weight': 'balanced', 'criterion': 'entropy', 'max_depth': 14, 'max_leaf_nodes': None, 'random_state': 33, 'splitter': 'random'}\n",
      "0.787 (+/-0.088) for {'class_weight': 'balanced', 'criterion': 'entropy', 'max_depth': 14, 'max_leaf_nodes': 10, 'random_state': 33, 'splitter': 'best'}\n",
      "0.753 (+/-0.116) for {'class_weight': 'balanced', 'criterion': 'entropy', 'max_depth': 14, 'max_leaf_nodes': 10, 'random_state': 33, 'splitter': 'random'}\n",
      "0.778 (+/-0.116) for {'class_weight': 'balanced', 'criterion': 'entropy', 'max_depth': 14, 'max_leaf_nodes': 16, 'random_state': 33, 'splitter': 'best'}\n",
      "0.756 (+/-0.124) for {'class_weight': 'balanced', 'criterion': 'entropy', 'max_depth': 14, 'max_leaf_nodes': 16, 'random_state': 33, 'splitter': 'random'}\n",
      "0.778 (+/-0.102) for {'class_weight': 'balanced', 'criterion': 'entropy', 'max_depth': 14, 'max_leaf_nodes': 20, 'random_state': 33, 'splitter': 'best'}\n",
      "0.754 (+/-0.139) for {'class_weight': 'balanced', 'criterion': 'entropy', 'max_depth': 14, 'max_leaf_nodes': 20, 'random_state': 33, 'splitter': 'random'}\n",
      "0.810 (+/-0.079) for {'class_weight': None, 'criterion': 'gini', 'max_depth': 3, 'max_leaf_nodes': None, 'random_state': 33, 'splitter': 'best'}\n",
      "0.799 (+/-0.089) for {'class_weight': None, 'criterion': 'gini', 'max_depth': 3, 'max_leaf_nodes': None, 'random_state': 33, 'splitter': 'random'}\n",
      "0.802 (+/-0.093) for {'class_weight': None, 'criterion': 'gini', 'max_depth': 3, 'max_leaf_nodes': 10, 'random_state': 33, 'splitter': 'best'}\n",
      "0.801 (+/-0.078) for {'class_weight': None, 'criterion': 'gini', 'max_depth': 3, 'max_leaf_nodes': 10, 'random_state': 33, 'splitter': 'random'}\n",
      "0.801 (+/-0.089) for {'class_weight': None, 'criterion': 'gini', 'max_depth': 3, 'max_leaf_nodes': 16, 'random_state': 33, 'splitter': 'best'}\n",
      "0.798 (+/-0.079) for {'class_weight': None, 'criterion': 'gini', 'max_depth': 3, 'max_leaf_nodes': 16, 'random_state': 33, 'splitter': 'random'}\n",
      "0.801 (+/-0.089) for {'class_weight': None, 'criterion': 'gini', 'max_depth': 3, 'max_leaf_nodes': 20, 'random_state': 33, 'splitter': 'best'}\n",
      "0.798 (+/-0.079) for {'class_weight': None, 'criterion': 'gini', 'max_depth': 3, 'max_leaf_nodes': 20, 'random_state': 33, 'splitter': 'random'}\n",
      "0.799 (+/-0.093) for {'class_weight': None, 'criterion': 'gini', 'max_depth': 4, 'max_leaf_nodes': None, 'random_state': 33, 'splitter': 'best'}\n",
      "0.816 (+/-0.090) for {'class_weight': None, 'criterion': 'gini', 'max_depth': 4, 'max_leaf_nodes': None, 'random_state': 33, 'splitter': 'random'}\n",
      "0.799 (+/-0.084) for {'class_weight': None, 'criterion': 'gini', 'max_depth': 4, 'max_leaf_nodes': 10, 'random_state': 33, 'splitter': 'best'}\n",
      "0.804 (+/-0.079) for {'class_weight': None, 'criterion': 'gini', 'max_depth': 4, 'max_leaf_nodes': 10, 'random_state': 33, 'splitter': 'random'}\n",
      "0.799 (+/-0.087) for {'class_weight': None, 'criterion': 'gini', 'max_depth': 4, 'max_leaf_nodes': 16, 'random_state': 33, 'splitter': 'best'}\n",
      "0.799 (+/-0.079) for {'class_weight': None, 'criterion': 'gini', 'max_depth': 4, 'max_leaf_nodes': 16, 'random_state': 33, 'splitter': 'random'}\n",
      "0.793 (+/-0.094) for {'class_weight': None, 'criterion': 'gini', 'max_depth': 4, 'max_leaf_nodes': 20, 'random_state': 33, 'splitter': 'best'}\n",
      "0.798 (+/-0.084) for {'class_weight': None, 'criterion': 'gini', 'max_depth': 4, 'max_leaf_nodes': 20, 'random_state': 33, 'splitter': 'random'}\n",
      "0.787 (+/-0.098) for {'class_weight': None, 'criterion': 'gini', 'max_depth': 5, 'max_leaf_nodes': None, 'random_state': 33, 'splitter': 'best'}\n",
      "0.808 (+/-0.096) for {'class_weight': None, 'criterion': 'gini', 'max_depth': 5, 'max_leaf_nodes': None, 'random_state': 33, 'splitter': 'random'}\n",
      "0.799 (+/-0.081) for {'class_weight': None, 'criterion': 'gini', 'max_depth': 5, 'max_leaf_nodes': 10, 'random_state': 33, 'splitter': 'best'}\n",
      "0.804 (+/-0.079) for {'class_weight': None, 'criterion': 'gini', 'max_depth': 5, 'max_leaf_nodes': 10, 'random_state': 33, 'splitter': 'random'}\n",
      "0.810 (+/-0.082) for {'class_weight': None, 'criterion': 'gini', 'max_depth': 5, 'max_leaf_nodes': 16, 'random_state': 33, 'splitter': 'best'}\n",
      "0.792 (+/-0.095) for {'class_weight': None, 'criterion': 'gini', 'max_depth': 5, 'max_leaf_nodes': 16, 'random_state': 33, 'splitter': 'random'}\n",
      "0.804 (+/-0.087) for {'class_weight': None, 'criterion': 'gini', 'max_depth': 5, 'max_leaf_nodes': 20, 'random_state': 33, 'splitter': 'best'}\n",
      "0.783 (+/-0.088) for {'class_weight': None, 'criterion': 'gini', 'max_depth': 5, 'max_leaf_nodes': 20, 'random_state': 33, 'splitter': 'random'}\n",
      "0.784 (+/-0.085) for {'class_weight': None, 'criterion': 'gini', 'max_depth': 6, 'max_leaf_nodes': None, 'random_state': 33, 'splitter': 'best'}\n",
      "0.795 (+/-0.087) for {'class_weight': None, 'criterion': 'gini', 'max_depth': 6, 'max_leaf_nodes': None, 'random_state': 33, 'splitter': 'random'}\n",
      "0.799 (+/-0.081) for {'class_weight': None, 'criterion': 'gini', 'max_depth': 6, 'max_leaf_nodes': 10, 'random_state': 33, 'splitter': 'best'}\n",
      "0.804 (+/-0.079) for {'class_weight': None, 'criterion': 'gini', 'max_depth': 6, 'max_leaf_nodes': 10, 'random_state': 33, 'splitter': 'random'}\n",
      "0.811 (+/-0.078) for {'class_weight': None, 'criterion': 'gini', 'max_depth': 6, 'max_leaf_nodes': 16, 'random_state': 33, 'splitter': 'best'}\n",
      "0.796 (+/-0.096) for {'class_weight': None, 'criterion': 'gini', 'max_depth': 6, 'max_leaf_nodes': 16, 'random_state': 33, 'splitter': 'random'}\n",
      "0.811 (+/-0.084) for {'class_weight': None, 'criterion': 'gini', 'max_depth': 6, 'max_leaf_nodes': 20, 'random_state': 33, 'splitter': 'best'}\n",
      "0.799 (+/-0.099) for {'class_weight': None, 'criterion': 'gini', 'max_depth': 6, 'max_leaf_nodes': 20, 'random_state': 33, 'splitter': 'random'}\n",
      "0.771 (+/-0.114) for {'class_weight': None, 'criterion': 'gini', 'max_depth': 7, 'max_leaf_nodes': None, 'random_state': 33, 'splitter': 'best'}\n",
      "0.795 (+/-0.084) for {'class_weight': None, 'criterion': 'gini', 'max_depth': 7, 'max_leaf_nodes': None, 'random_state': 33, 'splitter': 'random'}\n",
      "0.799 (+/-0.081) for {'class_weight': None, 'criterion': 'gini', 'max_depth': 7, 'max_leaf_nodes': 10, 'random_state': 33, 'splitter': 'best'}\n",
      "0.804 (+/-0.079) for {'class_weight': None, 'criterion': 'gini', 'max_depth': 7, 'max_leaf_nodes': 10, 'random_state': 33, 'splitter': 'random'}\n",
      "0.804 (+/-0.089) for {'class_weight': None, 'criterion': 'gini', 'max_depth': 7, 'max_leaf_nodes': 16, 'random_state': 33, 'splitter': 'best'}\n",
      "0.795 (+/-0.094) for {'class_weight': None, 'criterion': 'gini', 'max_depth': 7, 'max_leaf_nodes': 16, 'random_state': 33, 'splitter': 'random'}\n",
      "0.804 (+/-0.094) for {'class_weight': None, 'criterion': 'gini', 'max_depth': 7, 'max_leaf_nodes': 20, 'random_state': 33, 'splitter': 'best'}\n",
      "0.798 (+/-0.104) for {'class_weight': None, 'criterion': 'gini', 'max_depth': 7, 'max_leaf_nodes': 20, 'random_state': 33, 'splitter': 'random'}\n",
      "0.762 (+/-0.123) for {'class_weight': None, 'criterion': 'gini', 'max_depth': 8, 'max_leaf_nodes': None, 'random_state': 33, 'splitter': 'best'}\n",
      "0.780 (+/-0.085) for {'class_weight': None, 'criterion': 'gini', 'max_depth': 8, 'max_leaf_nodes': None, 'random_state': 33, 'splitter': 'random'}\n",
      "0.799 (+/-0.081) for {'class_weight': None, 'criterion': 'gini', 'max_depth': 8, 'max_leaf_nodes': 10, 'random_state': 33, 'splitter': 'best'}\n",
      "0.804 (+/-0.079) for {'class_weight': None, 'criterion': 'gini', 'max_depth': 8, 'max_leaf_nodes': 10, 'random_state': 33, 'splitter': 'random'}\n",
      "0.802 (+/-0.084) for {'class_weight': None, 'criterion': 'gini', 'max_depth': 8, 'max_leaf_nodes': 16, 'random_state': 33, 'splitter': 'best'}\n",
      "0.795 (+/-0.094) for {'class_weight': None, 'criterion': 'gini', 'max_depth': 8, 'max_leaf_nodes': 16, 'random_state': 33, 'splitter': 'random'}\n",
      "0.805 (+/-0.093) for {'class_weight': None, 'criterion': 'gini', 'max_depth': 8, 'max_leaf_nodes': 20, 'random_state': 33, 'splitter': 'best'}\n",
      "0.799 (+/-0.092) for {'class_weight': None, 'criterion': 'gini', 'max_depth': 8, 'max_leaf_nodes': 20, 'random_state': 33, 'splitter': 'random'}\n",
      "0.760 (+/-0.109) for {'class_weight': None, 'criterion': 'gini', 'max_depth': 9, 'max_leaf_nodes': None, 'random_state': 33, 'splitter': 'best'}\n",
      "0.780 (+/-0.087) for {'class_weight': None, 'criterion': 'gini', 'max_depth': 9, 'max_leaf_nodes': None, 'random_state': 33, 'splitter': 'random'}\n",
      "0.799 (+/-0.081) for {'class_weight': None, 'criterion': 'gini', 'max_depth': 9, 'max_leaf_nodes': 10, 'random_state': 33, 'splitter': 'best'}\n",
      "0.804 (+/-0.079) for {'class_weight': None, 'criterion': 'gini', 'max_depth': 9, 'max_leaf_nodes': 10, 'random_state': 33, 'splitter': 'random'}\n",
      "0.802 (+/-0.084) for {'class_weight': None, 'criterion': 'gini', 'max_depth': 9, 'max_leaf_nodes': 16, 'random_state': 33, 'splitter': 'best'}\n",
      "0.795 (+/-0.094) for {'class_weight': None, 'criterion': 'gini', 'max_depth': 9, 'max_leaf_nodes': 16, 'random_state': 33, 'splitter': 'random'}\n",
      "0.804 (+/-0.096) for {'class_weight': None, 'criterion': 'gini', 'max_depth': 9, 'max_leaf_nodes': 20, 'random_state': 33, 'splitter': 'best'}\n",
      "0.799 (+/-0.092) for {'class_weight': None, 'criterion': 'gini', 'max_depth': 9, 'max_leaf_nodes': 20, 'random_state': 33, 'splitter': 'random'}\n",
      "0.766 (+/-0.108) for {'class_weight': None, 'criterion': 'gini', 'max_depth': 10, 'max_leaf_nodes': None, 'random_state': 33, 'splitter': 'best'}\n",
      "0.765 (+/-0.070) for {'class_weight': None, 'criterion': 'gini', 'max_depth': 10, 'max_leaf_nodes': None, 'random_state': 33, 'splitter': 'random'}\n",
      "0.799 (+/-0.081) for {'class_weight': None, 'criterion': 'gini', 'max_depth': 10, 'max_leaf_nodes': 10, 'random_state': 33, 'splitter': 'best'}\n",
      "0.804 (+/-0.079) for {'class_weight': None, 'criterion': 'gini', 'max_depth': 10, 'max_leaf_nodes': 10, 'random_state': 33, 'splitter': 'random'}\n",
      "0.802 (+/-0.084) for {'class_weight': None, 'criterion': 'gini', 'max_depth': 10, 'max_leaf_nodes': 16, 'random_state': 33, 'splitter': 'best'}\n",
      "0.795 (+/-0.094) for {'class_weight': None, 'criterion': 'gini', 'max_depth': 10, 'max_leaf_nodes': 16, 'random_state': 33, 'splitter': 'random'}\n",
      "0.804 (+/-0.096) for {'class_weight': None, 'criterion': 'gini', 'max_depth': 10, 'max_leaf_nodes': 20, 'random_state': 33, 'splitter': 'best'}\n",
      "0.799 (+/-0.092) for {'class_weight': None, 'criterion': 'gini', 'max_depth': 10, 'max_leaf_nodes': 20, 'random_state': 33, 'splitter': 'random'}\n",
      "0.766 (+/-0.119) for {'class_weight': None, 'criterion': 'gini', 'max_depth': 11, 'max_leaf_nodes': None, 'random_state': 33, 'splitter': 'best'}\n",
      "0.763 (+/-0.097) for {'class_weight': None, 'criterion': 'gini', 'max_depth': 11, 'max_leaf_nodes': None, 'random_state': 33, 'splitter': 'random'}\n",
      "0.799 (+/-0.081) for {'class_weight': None, 'criterion': 'gini', 'max_depth': 11, 'max_leaf_nodes': 10, 'random_state': 33, 'splitter': 'best'}\n",
      "0.804 (+/-0.079) for {'class_weight': None, 'criterion': 'gini', 'max_depth': 11, 'max_leaf_nodes': 10, 'random_state': 33, 'splitter': 'random'}\n",
      "0.802 (+/-0.084) for {'class_weight': None, 'criterion': 'gini', 'max_depth': 11, 'max_leaf_nodes': 16, 'random_state': 33, 'splitter': 'best'}\n",
      "0.795 (+/-0.094) for {'class_weight': None, 'criterion': 'gini', 'max_depth': 11, 'max_leaf_nodes': 16, 'random_state': 33, 'splitter': 'random'}\n",
      "0.804 (+/-0.096) for {'class_weight': None, 'criterion': 'gini', 'max_depth': 11, 'max_leaf_nodes': 20, 'random_state': 33, 'splitter': 'best'}\n",
      "0.799 (+/-0.092) for {'class_weight': None, 'criterion': 'gini', 'max_depth': 11, 'max_leaf_nodes': 20, 'random_state': 33, 'splitter': 'random'}\n",
      "0.762 (+/-0.133) for {'class_weight': None, 'criterion': 'gini', 'max_depth': 12, 'max_leaf_nodes': None, 'random_state': 33, 'splitter': 'best'}\n",
      "0.769 (+/-0.090) for {'class_weight': None, 'criterion': 'gini', 'max_depth': 12, 'max_leaf_nodes': None, 'random_state': 33, 'splitter': 'random'}\n",
      "0.799 (+/-0.081) for {'class_weight': None, 'criterion': 'gini', 'max_depth': 12, 'max_leaf_nodes': 10, 'random_state': 33, 'splitter': 'best'}\n",
      "0.804 (+/-0.079) for {'class_weight': None, 'criterion': 'gini', 'max_depth': 12, 'max_leaf_nodes': 10, 'random_state': 33, 'splitter': 'random'}\n",
      "0.802 (+/-0.084) for {'class_weight': None, 'criterion': 'gini', 'max_depth': 12, 'max_leaf_nodes': 16, 'random_state': 33, 'splitter': 'best'}\n",
      "0.795 (+/-0.094) for {'class_weight': None, 'criterion': 'gini', 'max_depth': 12, 'max_leaf_nodes': 16, 'random_state': 33, 'splitter': 'random'}\n",
      "0.804 (+/-0.096) for {'class_weight': None, 'criterion': 'gini', 'max_depth': 12, 'max_leaf_nodes': 20, 'random_state': 33, 'splitter': 'best'}\n",
      "0.799 (+/-0.092) for {'class_weight': None, 'criterion': 'gini', 'max_depth': 12, 'max_leaf_nodes': 20, 'random_state': 33, 'splitter': 'random'}\n",
      "0.766 (+/-0.123) for {'class_weight': None, 'criterion': 'gini', 'max_depth': 13, 'max_leaf_nodes': None, 'random_state': 33, 'splitter': 'best'}\n",
      "0.768 (+/-0.073) for {'class_weight': None, 'criterion': 'gini', 'max_depth': 13, 'max_leaf_nodes': None, 'random_state': 33, 'splitter': 'random'}\n",
      "0.799 (+/-0.081) for {'class_weight': None, 'criterion': 'gini', 'max_depth': 13, 'max_leaf_nodes': 10, 'random_state': 33, 'splitter': 'best'}\n",
      "0.804 (+/-0.079) for {'class_weight': None, 'criterion': 'gini', 'max_depth': 13, 'max_leaf_nodes': 10, 'random_state': 33, 'splitter': 'random'}\n",
      "0.802 (+/-0.084) for {'class_weight': None, 'criterion': 'gini', 'max_depth': 13, 'max_leaf_nodes': 16, 'random_state': 33, 'splitter': 'best'}\n",
      "0.795 (+/-0.094) for {'class_weight': None, 'criterion': 'gini', 'max_depth': 13, 'max_leaf_nodes': 16, 'random_state': 33, 'splitter': 'random'}\n",
      "0.804 (+/-0.096) for {'class_weight': None, 'criterion': 'gini', 'max_depth': 13, 'max_leaf_nodes': 20, 'random_state': 33, 'splitter': 'best'}\n",
      "0.799 (+/-0.092) for {'class_weight': None, 'criterion': 'gini', 'max_depth': 13, 'max_leaf_nodes': 20, 'random_state': 33, 'splitter': 'random'}\n",
      "0.757 (+/-0.106) for {'class_weight': None, 'criterion': 'gini', 'max_depth': 14, 'max_leaf_nodes': None, 'random_state': 33, 'splitter': 'best'}\n",
      "0.769 (+/-0.121) for {'class_weight': None, 'criterion': 'gini', 'max_depth': 14, 'max_leaf_nodes': None, 'random_state': 33, 'splitter': 'random'}\n",
      "0.799 (+/-0.081) for {'class_weight': None, 'criterion': 'gini', 'max_depth': 14, 'max_leaf_nodes': 10, 'random_state': 33, 'splitter': 'best'}\n",
      "0.804 (+/-0.079) for {'class_weight': None, 'criterion': 'gini', 'max_depth': 14, 'max_leaf_nodes': 10, 'random_state': 33, 'splitter': 'random'}\n",
      "0.802 (+/-0.084) for {'class_weight': None, 'criterion': 'gini', 'max_depth': 14, 'max_leaf_nodes': 16, 'random_state': 33, 'splitter': 'best'}\n",
      "0.795 (+/-0.094) for {'class_weight': None, 'criterion': 'gini', 'max_depth': 14, 'max_leaf_nodes': 16, 'random_state': 33, 'splitter': 'random'}\n",
      "0.804 (+/-0.096) for {'class_weight': None, 'criterion': 'gini', 'max_depth': 14, 'max_leaf_nodes': 20, 'random_state': 33, 'splitter': 'best'}\n",
      "0.799 (+/-0.092) for {'class_weight': None, 'criterion': 'gini', 'max_depth': 14, 'max_leaf_nodes': 20, 'random_state': 33, 'splitter': 'random'}\n",
      "0.807 (+/-0.078) for {'class_weight': None, 'criterion': 'entropy', 'max_depth': 3, 'max_leaf_nodes': None, 'random_state': 33, 'splitter': 'best'}\n",
      "0.804 (+/-0.100) for {'class_weight': None, 'criterion': 'entropy', 'max_depth': 3, 'max_leaf_nodes': None, 'random_state': 33, 'splitter': 'random'}\n",
      "0.798 (+/-0.094) for {'class_weight': None, 'criterion': 'entropy', 'max_depth': 3, 'max_leaf_nodes': 10, 'random_state': 33, 'splitter': 'best'}\n",
      "0.786 (+/-0.081) for {'class_weight': None, 'criterion': 'entropy', 'max_depth': 3, 'max_leaf_nodes': 10, 'random_state': 33, 'splitter': 'random'}\n",
      "0.798 (+/-0.096) for {'class_weight': None, 'criterion': 'entropy', 'max_depth': 3, 'max_leaf_nodes': 16, 'random_state': 33, 'splitter': 'best'}\n",
      "0.784 (+/-0.073) for {'class_weight': None, 'criterion': 'entropy', 'max_depth': 3, 'max_leaf_nodes': 16, 'random_state': 33, 'splitter': 'random'}\n",
      "0.798 (+/-0.096) for {'class_weight': None, 'criterion': 'entropy', 'max_depth': 3, 'max_leaf_nodes': 20, 'random_state': 33, 'splitter': 'best'}\n",
      "0.784 (+/-0.073) for {'class_weight': None, 'criterion': 'entropy', 'max_depth': 3, 'max_leaf_nodes': 20, 'random_state': 33, 'splitter': 'random'}\n",
      "0.798 (+/-0.096) for {'class_weight': None, 'criterion': 'entropy', 'max_depth': 4, 'max_leaf_nodes': None, 'random_state': 33, 'splitter': 'best'}\n",
      "0.814 (+/-0.090) for {'class_weight': None, 'criterion': 'entropy', 'max_depth': 4, 'max_leaf_nodes': None, 'random_state': 33, 'splitter': 'random'}\n",
      "0.802 (+/-0.083) for {'class_weight': None, 'criterion': 'entropy', 'max_depth': 4, 'max_leaf_nodes': 10, 'random_state': 33, 'splitter': 'best'}\n",
      "0.787 (+/-0.097) for {'class_weight': None, 'criterion': 'entropy', 'max_depth': 4, 'max_leaf_nodes': 10, 'random_state': 33, 'splitter': 'random'}\n",
      "0.795 (+/-0.098) for {'class_weight': None, 'criterion': 'entropy', 'max_depth': 4, 'max_leaf_nodes': 16, 'random_state': 33, 'splitter': 'best'}\n",
      "0.783 (+/-0.102) for {'class_weight': None, 'criterion': 'entropy', 'max_depth': 4, 'max_leaf_nodes': 16, 'random_state': 33, 'splitter': 'random'}\n",
      "0.792 (+/-0.095) for {'class_weight': None, 'criterion': 'entropy', 'max_depth': 4, 'max_leaf_nodes': 20, 'random_state': 33, 'splitter': 'best'}\n",
      "0.784 (+/-0.111) for {'class_weight': None, 'criterion': 'entropy', 'max_depth': 4, 'max_leaf_nodes': 20, 'random_state': 33, 'splitter': 'random'}\n",
      "0.789 (+/-0.102) for {'class_weight': None, 'criterion': 'entropy', 'max_depth': 5, 'max_leaf_nodes': None, 'random_state': 33, 'splitter': 'best'}\n",
      "0.805 (+/-0.104) for {'class_weight': None, 'criterion': 'entropy', 'max_depth': 5, 'max_leaf_nodes': None, 'random_state': 33, 'splitter': 'random'}\n",
      "0.790 (+/-0.077) for {'class_weight': None, 'criterion': 'entropy', 'max_depth': 5, 'max_leaf_nodes': 10, 'random_state': 33, 'splitter': 'best'}\n",
      "0.784 (+/-0.101) for {'class_weight': None, 'criterion': 'entropy', 'max_depth': 5, 'max_leaf_nodes': 10, 'random_state': 33, 'splitter': 'random'}\n",
      "0.786 (+/-0.108) for {'class_weight': None, 'criterion': 'entropy', 'max_depth': 5, 'max_leaf_nodes': 16, 'random_state': 33, 'splitter': 'best'}\n",
      "0.786 (+/-0.082) for {'class_weight': None, 'criterion': 'entropy', 'max_depth': 5, 'max_leaf_nodes': 16, 'random_state': 33, 'splitter': 'random'}\n",
      "0.780 (+/-0.094) for {'class_weight': None, 'criterion': 'entropy', 'max_depth': 5, 'max_leaf_nodes': 20, 'random_state': 33, 'splitter': 'best'}\n",
      "0.792 (+/-0.067) for {'class_weight': None, 'criterion': 'entropy', 'max_depth': 5, 'max_leaf_nodes': 20, 'random_state': 33, 'splitter': 'random'}\n",
      "0.775 (+/-0.093) for {'class_weight': None, 'criterion': 'entropy', 'max_depth': 6, 'max_leaf_nodes': None, 'random_state': 33, 'splitter': 'best'}\n",
      "0.798 (+/-0.096) for {'class_weight': None, 'criterion': 'entropy', 'max_depth': 6, 'max_leaf_nodes': None, 'random_state': 33, 'splitter': 'random'}\n",
      "0.790 (+/-0.077) for {'class_weight': None, 'criterion': 'entropy', 'max_depth': 6, 'max_leaf_nodes': 10, 'random_state': 33, 'splitter': 'best'}\n",
      "0.784 (+/-0.101) for {'class_weight': None, 'criterion': 'entropy', 'max_depth': 6, 'max_leaf_nodes': 10, 'random_state': 33, 'splitter': 'random'}\n",
      "0.795 (+/-0.092) for {'class_weight': None, 'criterion': 'entropy', 'max_depth': 6, 'max_leaf_nodes': 16, 'random_state': 33, 'splitter': 'best'}\n",
      "0.792 (+/-0.093) for {'class_weight': None, 'criterion': 'entropy', 'max_depth': 6, 'max_leaf_nodes': 16, 'random_state': 33, 'splitter': 'random'}\n",
      "0.798 (+/-0.096) for {'class_weight': None, 'criterion': 'entropy', 'max_depth': 6, 'max_leaf_nodes': 20, 'random_state': 33, 'splitter': 'best'}\n",
      "0.790 (+/-0.096) for {'class_weight': None, 'criterion': 'entropy', 'max_depth': 6, 'max_leaf_nodes': 20, 'random_state': 33, 'splitter': 'random'}\n",
      "0.792 (+/-0.093) for {'class_weight': None, 'criterion': 'entropy', 'max_depth': 7, 'max_leaf_nodes': None, 'random_state': 33, 'splitter': 'best'}\n",
      "0.795 (+/-0.096) for {'class_weight': None, 'criterion': 'entropy', 'max_depth': 7, 'max_leaf_nodes': None, 'random_state': 33, 'splitter': 'random'}\n",
      "0.790 (+/-0.077) for {'class_weight': None, 'criterion': 'entropy', 'max_depth': 7, 'max_leaf_nodes': 10, 'random_state': 33, 'splitter': 'best'}\n",
      "0.784 (+/-0.101) for {'class_weight': None, 'criterion': 'entropy', 'max_depth': 7, 'max_leaf_nodes': 10, 'random_state': 33, 'splitter': 'random'}\n",
      "0.783 (+/-0.099) for {'class_weight': None, 'criterion': 'entropy', 'max_depth': 7, 'max_leaf_nodes': 16, 'random_state': 33, 'splitter': 'best'}\n",
      "0.790 (+/-0.091) for {'class_weight': None, 'criterion': 'entropy', 'max_depth': 7, 'max_leaf_nodes': 16, 'random_state': 33, 'splitter': 'random'}\n",
      "0.783 (+/-0.101) for {'class_weight': None, 'criterion': 'entropy', 'max_depth': 7, 'max_leaf_nodes': 20, 'random_state': 33, 'splitter': 'best'}\n",
      "0.792 (+/-0.087) for {'class_weight': None, 'criterion': 'entropy', 'max_depth': 7, 'max_leaf_nodes': 20, 'random_state': 33, 'splitter': 'random'}\n",
      "0.778 (+/-0.075) for {'class_weight': None, 'criterion': 'entropy', 'max_depth': 8, 'max_leaf_nodes': None, 'random_state': 33, 'splitter': 'best'}\n",
      "0.786 (+/-0.083) for {'class_weight': None, 'criterion': 'entropy', 'max_depth': 8, 'max_leaf_nodes': None, 'random_state': 33, 'splitter': 'random'}\n",
      "0.790 (+/-0.077) for {'class_weight': None, 'criterion': 'entropy', 'max_depth': 8, 'max_leaf_nodes': 10, 'random_state': 33, 'splitter': 'best'}\n",
      "0.784 (+/-0.101) for {'class_weight': None, 'criterion': 'entropy', 'max_depth': 8, 'max_leaf_nodes': 10, 'random_state': 33, 'splitter': 'random'}\n",
      "0.778 (+/-0.088) for {'class_weight': None, 'criterion': 'entropy', 'max_depth': 8, 'max_leaf_nodes': 16, 'random_state': 33, 'splitter': 'best'}\n",
      "0.790 (+/-0.091) for {'class_weight': None, 'criterion': 'entropy', 'max_depth': 8, 'max_leaf_nodes': 16, 'random_state': 33, 'splitter': 'random'}\n",
      "0.781 (+/-0.104) for {'class_weight': None, 'criterion': 'entropy', 'max_depth': 8, 'max_leaf_nodes': 20, 'random_state': 33, 'splitter': 'best'}\n",
      "0.792 (+/-0.095) for {'class_weight': None, 'criterion': 'entropy', 'max_depth': 8, 'max_leaf_nodes': 20, 'random_state': 33, 'splitter': 'random'}\n",
      "0.774 (+/-0.079) for {'class_weight': None, 'criterion': 'entropy', 'max_depth': 9, 'max_leaf_nodes': None, 'random_state': 33, 'splitter': 'best'}\n",
      "0.772 (+/-0.127) for {'class_weight': None, 'criterion': 'entropy', 'max_depth': 9, 'max_leaf_nodes': None, 'random_state': 33, 'splitter': 'random'}\n",
      "0.790 (+/-0.077) for {'class_weight': None, 'criterion': 'entropy', 'max_depth': 9, 'max_leaf_nodes': 10, 'random_state': 33, 'splitter': 'best'}\n",
      "0.784 (+/-0.101) for {'class_weight': None, 'criterion': 'entropy', 'max_depth': 9, 'max_leaf_nodes': 10, 'random_state': 33, 'splitter': 'random'}\n",
      "0.778 (+/-0.088) for {'class_weight': None, 'criterion': 'entropy', 'max_depth': 9, 'max_leaf_nodes': 16, 'random_state': 33, 'splitter': 'best'}\n",
      "0.790 (+/-0.091) for {'class_weight': None, 'criterion': 'entropy', 'max_depth': 9, 'max_leaf_nodes': 16, 'random_state': 33, 'splitter': 'random'}\n",
      "0.784 (+/-0.107) for {'class_weight': None, 'criterion': 'entropy', 'max_depth': 9, 'max_leaf_nodes': 20, 'random_state': 33, 'splitter': 'best'}\n",
      "0.790 (+/-0.088) for {'class_weight': None, 'criterion': 'entropy', 'max_depth': 9, 'max_leaf_nodes': 20, 'random_state': 33, 'splitter': 'random'}\n",
      "0.766 (+/-0.076) for {'class_weight': None, 'criterion': 'entropy', 'max_depth': 10, 'max_leaf_nodes': None, 'random_state': 33, 'splitter': 'best'}\n",
      "0.789 (+/-0.073) for {'class_weight': None, 'criterion': 'entropy', 'max_depth': 10, 'max_leaf_nodes': None, 'random_state': 33, 'splitter': 'random'}\n",
      "0.790 (+/-0.077) for {'class_weight': None, 'criterion': 'entropy', 'max_depth': 10, 'max_leaf_nodes': 10, 'random_state': 33, 'splitter': 'best'}\n",
      "0.784 (+/-0.101) for {'class_weight': None, 'criterion': 'entropy', 'max_depth': 10, 'max_leaf_nodes': 10, 'random_state': 33, 'splitter': 'random'}\n",
      "0.778 (+/-0.088) for {'class_weight': None, 'criterion': 'entropy', 'max_depth': 10, 'max_leaf_nodes': 16, 'random_state': 33, 'splitter': 'best'}\n",
      "0.790 (+/-0.091) for {'class_weight': None, 'criterion': 'entropy', 'max_depth': 10, 'max_leaf_nodes': 16, 'random_state': 33, 'splitter': 'random'}\n",
      "0.784 (+/-0.107) for {'class_weight': None, 'criterion': 'entropy', 'max_depth': 10, 'max_leaf_nodes': 20, 'random_state': 33, 'splitter': 'best'}\n",
      "0.790 (+/-0.088) for {'class_weight': None, 'criterion': 'entropy', 'max_depth': 10, 'max_leaf_nodes': 20, 'random_state': 33, 'splitter': 'random'}\n",
      "0.772 (+/-0.104) for {'class_weight': None, 'criterion': 'entropy', 'max_depth': 11, 'max_leaf_nodes': None, 'random_state': 33, 'splitter': 'best'}\n",
      "0.777 (+/-0.094) for {'class_weight': None, 'criterion': 'entropy', 'max_depth': 11, 'max_leaf_nodes': None, 'random_state': 33, 'splitter': 'random'}\n",
      "0.790 (+/-0.077) for {'class_weight': None, 'criterion': 'entropy', 'max_depth': 11, 'max_leaf_nodes': 10, 'random_state': 33, 'splitter': 'best'}\n",
      "0.784 (+/-0.101) for {'class_weight': None, 'criterion': 'entropy', 'max_depth': 11, 'max_leaf_nodes': 10, 'random_state': 33, 'splitter': 'random'}\n",
      "0.778 (+/-0.088) for {'class_weight': None, 'criterion': 'entropy', 'max_depth': 11, 'max_leaf_nodes': 16, 'random_state': 33, 'splitter': 'best'}\n",
      "0.790 (+/-0.091) for {'class_weight': None, 'criterion': 'entropy', 'max_depth': 11, 'max_leaf_nodes': 16, 'random_state': 33, 'splitter': 'random'}\n",
      "0.784 (+/-0.107) for {'class_weight': None, 'criterion': 'entropy', 'max_depth': 11, 'max_leaf_nodes': 20, 'random_state': 33, 'splitter': 'best'}\n",
      "0.790 (+/-0.088) for {'class_weight': None, 'criterion': 'entropy', 'max_depth': 11, 'max_leaf_nodes': 20, 'random_state': 33, 'splitter': 'random'}\n",
      "0.765 (+/-0.078) for {'class_weight': None, 'criterion': 'entropy', 'max_depth': 12, 'max_leaf_nodes': None, 'random_state': 33, 'splitter': 'best'}\n",
      "0.762 (+/-0.102) for {'class_weight': None, 'criterion': 'entropy', 'max_depth': 12, 'max_leaf_nodes': None, 'random_state': 33, 'splitter': 'random'}\n",
      "0.790 (+/-0.077) for {'class_weight': None, 'criterion': 'entropy', 'max_depth': 12, 'max_leaf_nodes': 10, 'random_state': 33, 'splitter': 'best'}\n",
      "0.784 (+/-0.101) for {'class_weight': None, 'criterion': 'entropy', 'max_depth': 12, 'max_leaf_nodes': 10, 'random_state': 33, 'splitter': 'random'}\n",
      "0.778 (+/-0.088) for {'class_weight': None, 'criterion': 'entropy', 'max_depth': 12, 'max_leaf_nodes': 16, 'random_state': 33, 'splitter': 'best'}\n",
      "0.790 (+/-0.091) for {'class_weight': None, 'criterion': 'entropy', 'max_depth': 12, 'max_leaf_nodes': 16, 'random_state': 33, 'splitter': 'random'}\n",
      "0.784 (+/-0.107) for {'class_weight': None, 'criterion': 'entropy', 'max_depth': 12, 'max_leaf_nodes': 20, 'random_state': 33, 'splitter': 'best'}\n",
      "0.790 (+/-0.088) for {'class_weight': None, 'criterion': 'entropy', 'max_depth': 12, 'max_leaf_nodes': 20, 'random_state': 33, 'splitter': 'random'}\n",
      "0.760 (+/-0.070) for {'class_weight': None, 'criterion': 'entropy', 'max_depth': 13, 'max_leaf_nodes': None, 'random_state': 33, 'splitter': 'best'}\n",
      "0.762 (+/-0.104) for {'class_weight': None, 'criterion': 'entropy', 'max_depth': 13, 'max_leaf_nodes': None, 'random_state': 33, 'splitter': 'random'}\n",
      "0.790 (+/-0.077) for {'class_weight': None, 'criterion': 'entropy', 'max_depth': 13, 'max_leaf_nodes': 10, 'random_state': 33, 'splitter': 'best'}\n",
      "0.784 (+/-0.101) for {'class_weight': None, 'criterion': 'entropy', 'max_depth': 13, 'max_leaf_nodes': 10, 'random_state': 33, 'splitter': 'random'}\n",
      "0.778 (+/-0.088) for {'class_weight': None, 'criterion': 'entropy', 'max_depth': 13, 'max_leaf_nodes': 16, 'random_state': 33, 'splitter': 'best'}\n",
      "0.790 (+/-0.091) for {'class_weight': None, 'criterion': 'entropy', 'max_depth': 13, 'max_leaf_nodes': 16, 'random_state': 33, 'splitter': 'random'}\n",
      "0.784 (+/-0.107) for {'class_weight': None, 'criterion': 'entropy', 'max_depth': 13, 'max_leaf_nodes': 20, 'random_state': 33, 'splitter': 'best'}\n",
      "0.790 (+/-0.088) for {'class_weight': None, 'criterion': 'entropy', 'max_depth': 13, 'max_leaf_nodes': 20, 'random_state': 33, 'splitter': 'random'}\n",
      "0.756 (+/-0.086) for {'class_weight': None, 'criterion': 'entropy', 'max_depth': 14, 'max_leaf_nodes': None, 'random_state': 33, 'splitter': 'best'}\n",
      "0.784 (+/-0.108) for {'class_weight': None, 'criterion': 'entropy', 'max_depth': 14, 'max_leaf_nodes': None, 'random_state': 33, 'splitter': 'random'}\n",
      "0.790 (+/-0.077) for {'class_weight': None, 'criterion': 'entropy', 'max_depth': 14, 'max_leaf_nodes': 10, 'random_state': 33, 'splitter': 'best'}\n",
      "0.784 (+/-0.101) for {'class_weight': None, 'criterion': 'entropy', 'max_depth': 14, 'max_leaf_nodes': 10, 'random_state': 33, 'splitter': 'random'}\n",
      "0.778 (+/-0.088) for {'class_weight': None, 'criterion': 'entropy', 'max_depth': 14, 'max_leaf_nodes': 16, 'random_state': 33, 'splitter': 'best'}\n",
      "0.790 (+/-0.091) for {'class_weight': None, 'criterion': 'entropy', 'max_depth': 14, 'max_leaf_nodes': 16, 'random_state': 33, 'splitter': 'random'}\n",
      "0.784 (+/-0.107) for {'class_weight': None, 'criterion': 'entropy', 'max_depth': 14, 'max_leaf_nodes': 20, 'random_state': 33, 'splitter': 'best'}\n",
      "0.790 (+/-0.088) for {'class_weight': None, 'criterion': 'entropy', 'max_depth': 14, 'max_leaf_nodes': 20, 'random_state': 33, 'splitter': 'random'}\n",
      "\n",
      "Detailed classification report:\n",
      "\n",
      "The model is trained on the full development set.\n",
      "The scores are computed on the full evaluation set.\n",
      "\n",
      "             precision    recall  f1-score   support\n",
      "\n",
      "          0       0.82      0.96      0.88       134\n",
      "          1       0.91      0.69      0.78        89\n",
      "\n",
      "avg / total       0.86      0.85      0.84       223\n",
      "\n",
      "\n"
     ]
    },
    {
     "name": "stderr",
     "output_type": "stream",
     "text": [
      "/opt/Conda.io/lib/python3.6/site-packages/sklearn/model_selection/_search.py:667: DeprecationWarning: The grid_scores_ attribute was deprecated in version 0.18 in favor of the more elaborate cv_results_ attribute. The grid_scores_ attribute will not be available from 0.20\n",
      "  DeprecationWarning)\n"
     ]
    }
   ],
   "source": [
    "# Set the parameters by cross-validation\n",
    "\n",
    "from sklearn.metrics import classification_report\n",
    "\n",
    "# set of parameters to test\n",
    "tuned_parameters = [{'max_depth': np.arange(3, 15),\n",
    "                     'criterion': ['gini', 'entropy'], \n",
    "                     'splitter': ['best', 'random'],\n",
    "                     'class_weight':['balanced', None],\n",
    "                     'max_leaf_nodes': [None,10,16,20],\n",
    "                     'random_state':[33]\n",
    "                    }]\n",
    "\n",
    "scores = ['precision', 'recall']\n",
    "\n",
    "for score in scores:\n",
    "    print(\"# Tuning hyper-parameters for %s\" % score)\n",
    "    print()\n",
    "\n",
    "    # cv = the fold of the cross-validation cv, defaulted to 5\n",
    "    gs = GridSearchCV(DecisionTreeClassifier(), tuned_parameters, cv=10, scoring='%s_weighted' % score)\n",
    "    gs.fit(x_train, y_train)\n",
    "\n",
    "    print(\"Best parameters set found on development set:\")\n",
    "    print()\n",
    "    print(gs.best_params_)\n",
    "    print()\n",
    "    print(\"Grid scores on development set:\")\n",
    "    print()\n",
    "    for params, mean_score, scores in gs.grid_scores_:\n",
    "        print(\"%0.3f (+/-%0.03f) for %r\" % (mean_score, scores.std() * 2, params))\n",
    "    print()\n",
    "\n",
    "    print(\"Detailed classification report:\")\n",
    "    print()\n",
    "    print(\"The model is trained on the full development set.\")\n",
    "    print(\"The scores are computed on the full evaluation set.\")\n",
    "    print()\n",
    "    y_true, y_pred = y_test, gs.predict(x_test)\n",
    "    print(classification_report(y_true, y_pred))\n",
    "    print()\n"
   ]
  },
  {
   "cell_type": "markdown",
   "metadata": {},
   "source": [
    "Los mejores parámetros son:"
   ]
  },
  {
   "cell_type": "code",
   "execution_count": 54,
   "metadata": {
    "collapsed": false
   },
   "outputs": [
    {
     "name": "stdout",
     "output_type": "stream",
     "text": [
      "{'class_weight': None, 'criterion': 'gini', 'max_depth': 4, 'max_leaf_nodes': None, 'random_state': 33, 'splitter': 'random'}\n"
     ]
    }
   ],
   "source": [
    "print(gs.best_params_)"
   ]
  },
  {
   "cell_type": "markdown",
   "metadata": {},
   "source": [
    "Ahora puedo repetir el análisis de kfold con estos parámetros para obtener mayor exactitud:"
   ]
  },
  {
   "cell_type": "code",
   "execution_count": 58,
   "metadata": {
    "collapsed": false
   },
   "outputs": [
    {
     "name": "stdout",
     "output_type": "stream",
     "text": [
      "Mean score: 0.824 (+/- 0.012)\n"
     ]
    }
   ],
   "source": [
    "# create a composite estimator made by a pipeline of preprocessing and the KNN model\n",
    "model = Pipeline([\n",
    "        ('scaler', StandardScaler()),\n",
    "        ('ds', DecisionTreeClassifier(max_leaf_nodes=None, criterion='gini', \n",
    "                                      splitter='random', class_weight=None, max_depth=4,random_state=33))\n",
    "])\n",
    "\n",
    "# Fit the model\n",
    "model.fit(x_train, y_train) \n",
    "\n",
    "# create a k-fold cross validation iterator of k=10 folds\n",
    "cv = KFold(10, shuffle=True, random_state=33)\n",
    "\n",
    "# by default the score used is the one returned by score method of the estimator (accuracy)\n",
    "scores = cross_val_score(model, X, y, cv=cv)\n",
    "def mean_score(scores):\n",
    "    return (\"Mean score: {0:.3f} (+/- {1:.3f})\").format(np.mean(scores), sem(scores))\n",
    "print(mean_score(scores))\n"
   ]
  },
  {
   "cell_type": "markdown",
   "metadata": {},
   "source": [
    "## Licence"
   ]
  },
  {
   "cell_type": "markdown",
   "metadata": {},
   "source": [
    "The notebook is freely licensed under under the [Creative Commons Attribution Share-Alike license](https://creativecommons.org/licenses/by/2.0/).  \n",
    "\n",
    "© 2016 Carlos A. Iglesias, Universidad Politécnica de Madrid."
   ]
  }
 ],
 "metadata": {
  "kernelspec": {
   "display_name": "Python 3",
   "language": "python",
   "name": "python3"
  },
  "language_info": {
   "codemirror_mode": {
    "name": "ipython",
    "version": 3
   },
   "file_extension": ".py",
   "mimetype": "text/x-python",
   "name": "python",
   "nbconvert_exporter": "python",
   "pygments_lexer": "ipython3",
   "version": "3.6.0"
  }
 },
 "nbformat": 4,
 "nbformat_minor": 0
}
